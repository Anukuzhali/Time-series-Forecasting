{
 "cells": [
  {
   "cell_type": "code",
   "execution_count": 1,
   "metadata": {},
   "outputs": [],
   "source": [
    "import numpy as np\n",
    "import pandas as pd\n",
    "import matplotlib.pyplot as plt\n",
    "import seaborn as sns"
   ]
  },
  {
   "cell_type": "code",
   "execution_count": 2,
   "metadata": {},
   "outputs": [],
   "source": [
    "def RMSLE(actual, predicted):\n",
    "\n",
    "    predicted = np.array([np.log(np.abs(x+1.0)) for x in predicted])  # doing np.abs for handling neg values  \n",
    "    actual = np.array([np.log(np.abs(x+1.0)) for x in actual])\n",
    "    log_err = actual-predicted\n",
    "    \n",
    "    return 1000*np.sqrt(np.mean(log_err**2))\n"
   ]
  },
  {
   "cell_type": "code",
   "execution_count": 3,
   "metadata": {},
   "outputs": [],
   "source": [
    "train=pd.read_csv('train_demand.csv')\n",
    "test=pd.read_csv('test_demand.csv')\n",
    "submit=pd.read_csv('sample_demand.csv')"
   ]
  },
  {
   "cell_type": "code",
   "execution_count": 4,
   "metadata": {
    "scrolled": true
   },
   "outputs": [
    {
     "data": {
      "text/html": [
       "<div>\n",
       "<style scoped>\n",
       "    .dataframe tbody tr th:only-of-type {\n",
       "        vertical-align: middle;\n",
       "    }\n",
       "\n",
       "    .dataframe tbody tr th {\n",
       "        vertical-align: top;\n",
       "    }\n",
       "\n",
       "    .dataframe thead th {\n",
       "        text-align: right;\n",
       "    }\n",
       "</style>\n",
       "<table border=\"1\" class=\"dataframe\">\n",
       "  <thead>\n",
       "    <tr style=\"text-align: right;\">\n",
       "      <th></th>\n",
       "      <th>record_ID</th>\n",
       "      <th>week</th>\n",
       "      <th>store_id</th>\n",
       "      <th>sku_id</th>\n",
       "      <th>total_price</th>\n",
       "      <th>base_price</th>\n",
       "      <th>is_featured_sku</th>\n",
       "      <th>is_display_sku</th>\n",
       "      <th>units_sold</th>\n",
       "    </tr>\n",
       "  </thead>\n",
       "  <tbody>\n",
       "    <tr>\n",
       "      <th>0</th>\n",
       "      <td>1</td>\n",
       "      <td>17/01/11</td>\n",
       "      <td>8091</td>\n",
       "      <td>216418</td>\n",
       "      <td>99.0375</td>\n",
       "      <td>111.8625</td>\n",
       "      <td>0</td>\n",
       "      <td>0</td>\n",
       "      <td>20</td>\n",
       "    </tr>\n",
       "    <tr>\n",
       "      <th>1</th>\n",
       "      <td>2</td>\n",
       "      <td>17/01/11</td>\n",
       "      <td>8091</td>\n",
       "      <td>216419</td>\n",
       "      <td>99.0375</td>\n",
       "      <td>99.0375</td>\n",
       "      <td>0</td>\n",
       "      <td>0</td>\n",
       "      <td>28</td>\n",
       "    </tr>\n",
       "    <tr>\n",
       "      <th>2</th>\n",
       "      <td>3</td>\n",
       "      <td>17/01/11</td>\n",
       "      <td>8091</td>\n",
       "      <td>216425</td>\n",
       "      <td>133.9500</td>\n",
       "      <td>133.9500</td>\n",
       "      <td>0</td>\n",
       "      <td>0</td>\n",
       "      <td>19</td>\n",
       "    </tr>\n",
       "    <tr>\n",
       "      <th>3</th>\n",
       "      <td>4</td>\n",
       "      <td>17/01/11</td>\n",
       "      <td>8091</td>\n",
       "      <td>216233</td>\n",
       "      <td>133.9500</td>\n",
       "      <td>133.9500</td>\n",
       "      <td>0</td>\n",
       "      <td>0</td>\n",
       "      <td>44</td>\n",
       "    </tr>\n",
       "    <tr>\n",
       "      <th>4</th>\n",
       "      <td>5</td>\n",
       "      <td>17/01/11</td>\n",
       "      <td>8091</td>\n",
       "      <td>217390</td>\n",
       "      <td>141.0750</td>\n",
       "      <td>141.0750</td>\n",
       "      <td>0</td>\n",
       "      <td>0</td>\n",
       "      <td>52</td>\n",
       "    </tr>\n",
       "  </tbody>\n",
       "</table>\n",
       "</div>"
      ],
      "text/plain": [
       "   record_ID      week  store_id  sku_id  total_price  base_price  \\\n",
       "0          1  17/01/11      8091  216418      99.0375    111.8625   \n",
       "1          2  17/01/11      8091  216419      99.0375     99.0375   \n",
       "2          3  17/01/11      8091  216425     133.9500    133.9500   \n",
       "3          4  17/01/11      8091  216233     133.9500    133.9500   \n",
       "4          5  17/01/11      8091  217390     141.0750    141.0750   \n",
       "\n",
       "   is_featured_sku  is_display_sku  units_sold  \n",
       "0                0               0          20  \n",
       "1                0               0          28  \n",
       "2                0               0          19  \n",
       "3                0               0          44  \n",
       "4                0               0          52  "
      ]
     },
     "execution_count": 4,
     "metadata": {},
     "output_type": "execute_result"
    }
   ],
   "source": [
    "train.head()"
   ]
  },
  {
   "cell_type": "code",
   "execution_count": 5,
   "metadata": {},
   "outputs": [
    {
     "data": {
      "text/html": [
       "<div>\n",
       "<style scoped>\n",
       "    .dataframe tbody tr th:only-of-type {\n",
       "        vertical-align: middle;\n",
       "    }\n",
       "\n",
       "    .dataframe tbody tr th {\n",
       "        vertical-align: top;\n",
       "    }\n",
       "\n",
       "    .dataframe thead th {\n",
       "        text-align: right;\n",
       "    }\n",
       "</style>\n",
       "<table border=\"1\" class=\"dataframe\">\n",
       "  <thead>\n",
       "    <tr style=\"text-align: right;\">\n",
       "      <th></th>\n",
       "      <th>record_ID</th>\n",
       "      <th>week</th>\n",
       "      <th>store_id</th>\n",
       "      <th>sku_id</th>\n",
       "      <th>total_price</th>\n",
       "      <th>base_price</th>\n",
       "      <th>is_featured_sku</th>\n",
       "      <th>is_display_sku</th>\n",
       "    </tr>\n",
       "  </thead>\n",
       "  <tbody>\n",
       "    <tr>\n",
       "      <th>0</th>\n",
       "      <td>212645</td>\n",
       "      <td>16/07/13</td>\n",
       "      <td>8091</td>\n",
       "      <td>216418</td>\n",
       "      <td>108.3000</td>\n",
       "      <td>108.3000</td>\n",
       "      <td>0</td>\n",
       "      <td>0</td>\n",
       "    </tr>\n",
       "    <tr>\n",
       "      <th>1</th>\n",
       "      <td>212646</td>\n",
       "      <td>16/07/13</td>\n",
       "      <td>8091</td>\n",
       "      <td>216419</td>\n",
       "      <td>109.0125</td>\n",
       "      <td>109.0125</td>\n",
       "      <td>0</td>\n",
       "      <td>0</td>\n",
       "    </tr>\n",
       "    <tr>\n",
       "      <th>2</th>\n",
       "      <td>212647</td>\n",
       "      <td>16/07/13</td>\n",
       "      <td>8091</td>\n",
       "      <td>216425</td>\n",
       "      <td>133.9500</td>\n",
       "      <td>133.9500</td>\n",
       "      <td>0</td>\n",
       "      <td>0</td>\n",
       "    </tr>\n",
       "    <tr>\n",
       "      <th>3</th>\n",
       "      <td>212648</td>\n",
       "      <td>16/07/13</td>\n",
       "      <td>8091</td>\n",
       "      <td>216233</td>\n",
       "      <td>133.9500</td>\n",
       "      <td>133.9500</td>\n",
       "      <td>0</td>\n",
       "      <td>0</td>\n",
       "    </tr>\n",
       "    <tr>\n",
       "      <th>4</th>\n",
       "      <td>212649</td>\n",
       "      <td>16/07/13</td>\n",
       "      <td>8091</td>\n",
       "      <td>217390</td>\n",
       "      <td>176.7000</td>\n",
       "      <td>176.7000</td>\n",
       "      <td>0</td>\n",
       "      <td>0</td>\n",
       "    </tr>\n",
       "  </tbody>\n",
       "</table>\n",
       "</div>"
      ],
      "text/plain": [
       "   record_ID      week  store_id  sku_id  total_price  base_price  \\\n",
       "0     212645  16/07/13      8091  216418     108.3000    108.3000   \n",
       "1     212646  16/07/13      8091  216419     109.0125    109.0125   \n",
       "2     212647  16/07/13      8091  216425     133.9500    133.9500   \n",
       "3     212648  16/07/13      8091  216233     133.9500    133.9500   \n",
       "4     212649  16/07/13      8091  217390     176.7000    176.7000   \n",
       "\n",
       "   is_featured_sku  is_display_sku  \n",
       "0                0               0  \n",
       "1                0               0  \n",
       "2                0               0  \n",
       "3                0               0  \n",
       "4                0               0  "
      ]
     },
     "execution_count": 5,
     "metadata": {},
     "output_type": "execute_result"
    }
   ],
   "source": [
    "test.head()"
   ]
  },
  {
   "cell_type": "code",
   "execution_count": 6,
   "metadata": {},
   "outputs": [
    {
     "data": {
      "text/plain": [
       "((150150, 9), (13860, 8))"
      ]
     },
     "execution_count": 6,
     "metadata": {},
     "output_type": "execute_result"
    }
   ],
   "source": [
    "train.shape,test.shape"
   ]
  },
  {
   "cell_type": "markdown",
   "metadata": {},
   "source": [
    "Since, the data is on (store X sku) level, let's make a separate identifier to pick it later. Below, I have concatenated the store and sku id by making new column store_sku.\n",
    "I have also checked if the number of such combinations is same across the train and test set. By making sure it is 0, we can rest assured that no cold-start needs to be done.\n",
    "\n"
   ]
  },
  {
   "cell_type": "code",
   "execution_count": 7,
   "metadata": {},
   "outputs": [],
   "source": [
    "train['store_sku']=(train['store_id'].astype('str')+'-'+train['sku_id'].astype('str'))\n",
    "test['store_sku']=(test['store_id'].astype('str')+'-'+test['sku_id'].astype('str'))"
   ]
  },
  {
   "cell_type": "code",
   "execution_count": 8,
   "metadata": {},
   "outputs": [
    {
     "data": {
      "text/plain": [
       "0"
      ]
     },
     "execution_count": 8,
     "metadata": {},
     "output_type": "execute_result"
    }
   ],
   "source": [
    "len(train['store_sku'].unique())-len(test['store_sku'].unique())"
   ]
  },
  {
   "cell_type": "code",
   "execution_count": 9,
   "metadata": {},
   "outputs": [
    {
     "data": {
      "text/plain": [
       "record_ID          0\n",
       "week               0\n",
       "store_id           0\n",
       "sku_id             0\n",
       "total_price        1\n",
       "base_price         0\n",
       "is_featured_sku    0\n",
       "is_display_sku     0\n",
       "units_sold         0\n",
       "store_sku          0\n",
       "dtype: int64"
      ]
     },
     "execution_count": 9,
     "metadata": {},
     "output_type": "execute_result"
    }
   ],
   "source": [
    "train.isnull().sum()"
   ]
  },
  {
   "cell_type": "markdown",
   "metadata": {},
   "source": [
    "Notice that one entry for total_price is null in the train set. Lets replace it with the base_price for now."
   ]
  },
  {
   "cell_type": "code",
   "execution_count": 10,
   "metadata": {},
   "outputs": [],
   "source": [
    "temp=train[train['total_price'].isnull()]['base_price']"
   ]
  },
  {
   "cell_type": "code",
   "execution_count": 11,
   "metadata": {},
   "outputs": [],
   "source": [
    "train['total_price']=train['total_price'].fillna(temp)"
   ]
  },
  {
   "cell_type": "code",
   "execution_count": 12,
   "metadata": {},
   "outputs": [
    {
     "name": "stdout",
     "output_type": "stream",
     "text": [
      "<class 'pandas.core.frame.DataFrame'>\n",
      "RangeIndex: 150150 entries, 0 to 150149\n",
      "Data columns (total 10 columns):\n",
      " #   Column           Non-Null Count   Dtype  \n",
      "---  ------           --------------   -----  \n",
      " 0   record_ID        150150 non-null  int64  \n",
      " 1   week             150150 non-null  object \n",
      " 2   store_id         150150 non-null  int64  \n",
      " 3   sku_id           150150 non-null  int64  \n",
      " 4   total_price      150150 non-null  float64\n",
      " 5   base_price       150150 non-null  float64\n",
      " 6   is_featured_sku  150150 non-null  int64  \n",
      " 7   is_display_sku   150150 non-null  int64  \n",
      " 8   units_sold       150150 non-null  int64  \n",
      " 9   store_sku        150150 non-null  object \n",
      "dtypes: float64(2), int64(6), object(2)\n",
      "memory usage: 11.5+ MB\n"
     ]
    }
   ],
   "source": [
    "train.info()"
   ]
  },
  {
   "cell_type": "code",
   "execution_count": 13,
   "metadata": {},
   "outputs": [],
   "source": [
    "colu=['record_ID',\n",
    " 'week',\n",
    " 'store_id',\n",
    " 'sku_id',\n",
    " 'total_price',\n",
    " 'base_price',\n",
    " 'is_featured_sku',\n",
    " 'is_display_sku',\n",
    " 'store_sku',\n",
    "]"
   ]
  },
  {
   "cell_type": "code",
   "execution_count": 14,
   "metadata": {},
   "outputs": [
    {
     "name": "stdout",
     "output_type": "stream",
     "text": [
      "Checking Data distribution for Train! \n",
      "\n",
      "Distinct entries in record_ID:150150\n",
      "common number of record_ID entries in test and train:0\n",
      "Distinct entries in week:130\n",
      "common number of week entries in test and train:0\n",
      "Distinct entries in store_id:76\n",
      "common number of store_id entries in test and train:76\n",
      "Distinct entries in sku_id:28\n",
      "common number of sku_id entries in test and train:28\n",
      "Distinct entries in total_price:646\n",
      "common number of total_price entries in test and train:440\n",
      "Distinct entries in base_price:572\n",
      "common number of base_price entries in test and train:364\n",
      "Distinct entries in is_featured_sku:2\n",
      "common number of is_featured_sku entries in test and train:2\n",
      "Distinct entries in is_display_sku:2\n",
      "common number of is_display_sku entries in test and train:2\n",
      "Distinct entries in store_sku:1155\n",
      "common number of store_sku entries in test and train:1155\n"
     ]
    }
   ],
   "source": [
    "print('Checking Data distribution for Train! \\n')\n",
    "for col in colu:\n",
    "    print(f'Distinct entries in {col}:{train[col].nunique()}')\n",
    "    print(f'common number of {col} entries in test and train:{len(np.intersect1d(train[col].unique(),test[col].unique()))}')"
   ]
  },
  {
   "cell_type": "code",
   "execution_count": 15,
   "metadata": {},
   "outputs": [
    {
     "data": {
      "text/html": [
       "<div>\n",
       "<style scoped>\n",
       "    .dataframe tbody tr th:only-of-type {\n",
       "        vertical-align: middle;\n",
       "    }\n",
       "\n",
       "    .dataframe tbody tr th {\n",
       "        vertical-align: top;\n",
       "    }\n",
       "\n",
       "    .dataframe thead th {\n",
       "        text-align: right;\n",
       "    }\n",
       "</style>\n",
       "<table border=\"1\" class=\"dataframe\">\n",
       "  <thead>\n",
       "    <tr style=\"text-align: right;\">\n",
       "      <th></th>\n",
       "      <th>record_ID</th>\n",
       "      <th>store_id</th>\n",
       "      <th>sku_id</th>\n",
       "      <th>total_price</th>\n",
       "      <th>base_price</th>\n",
       "      <th>is_featured_sku</th>\n",
       "      <th>is_display_sku</th>\n",
       "      <th>units_sold</th>\n",
       "    </tr>\n",
       "  </thead>\n",
       "  <tbody>\n",
       "    <tr>\n",
       "      <th>count</th>\n",
       "      <td>150150.000000</td>\n",
       "      <td>150150.000000</td>\n",
       "      <td>150150.000000</td>\n",
       "      <td>150150.000000</td>\n",
       "      <td>150150.000000</td>\n",
       "      <td>150150.000000</td>\n",
       "      <td>150150.000000</td>\n",
       "      <td>150150.000000</td>\n",
       "    </tr>\n",
       "    <tr>\n",
       "      <th>mean</th>\n",
       "      <td>106271.555504</td>\n",
       "      <td>9199.422511</td>\n",
       "      <td>254761.132468</td>\n",
       "      <td>206.628502</td>\n",
       "      <td>219.425927</td>\n",
       "      <td>0.095611</td>\n",
       "      <td>0.133200</td>\n",
       "      <td>51.674206</td>\n",
       "    </tr>\n",
       "    <tr>\n",
       "      <th>std</th>\n",
       "      <td>61386.037861</td>\n",
       "      <td>615.591445</td>\n",
       "      <td>85547.306447</td>\n",
       "      <td>103.310400</td>\n",
       "      <td>110.961712</td>\n",
       "      <td>0.294058</td>\n",
       "      <td>0.339792</td>\n",
       "      <td>60.207904</td>\n",
       "    </tr>\n",
       "    <tr>\n",
       "      <th>min</th>\n",
       "      <td>1.000000</td>\n",
       "      <td>8023.000000</td>\n",
       "      <td>216233.000000</td>\n",
       "      <td>41.325000</td>\n",
       "      <td>61.275000</td>\n",
       "      <td>0.000000</td>\n",
       "      <td>0.000000</td>\n",
       "      <td>1.000000</td>\n",
       "    </tr>\n",
       "    <tr>\n",
       "      <th>25%</th>\n",
       "      <td>53111.250000</td>\n",
       "      <td>8562.000000</td>\n",
       "      <td>217217.000000</td>\n",
       "      <td>130.387500</td>\n",
       "      <td>133.237500</td>\n",
       "      <td>0.000000</td>\n",
       "      <td>0.000000</td>\n",
       "      <td>20.000000</td>\n",
       "    </tr>\n",
       "    <tr>\n",
       "      <th>50%</th>\n",
       "      <td>106226.500000</td>\n",
       "      <td>9371.000000</td>\n",
       "      <td>222087.000000</td>\n",
       "      <td>198.075000</td>\n",
       "      <td>205.912500</td>\n",
       "      <td>0.000000</td>\n",
       "      <td>0.000000</td>\n",
       "      <td>35.000000</td>\n",
       "    </tr>\n",
       "    <tr>\n",
       "      <th>75%</th>\n",
       "      <td>159452.750000</td>\n",
       "      <td>9731.000000</td>\n",
       "      <td>245338.000000</td>\n",
       "      <td>233.700000</td>\n",
       "      <td>234.412500</td>\n",
       "      <td>0.000000</td>\n",
       "      <td>0.000000</td>\n",
       "      <td>62.000000</td>\n",
       "    </tr>\n",
       "    <tr>\n",
       "      <th>max</th>\n",
       "      <td>212644.000000</td>\n",
       "      <td>9984.000000</td>\n",
       "      <td>679023.000000</td>\n",
       "      <td>562.162500</td>\n",
       "      <td>562.162500</td>\n",
       "      <td>1.000000</td>\n",
       "      <td>1.000000</td>\n",
       "      <td>2876.000000</td>\n",
       "    </tr>\n",
       "  </tbody>\n",
       "</table>\n",
       "</div>"
      ],
      "text/plain": [
       "           record_ID       store_id         sku_id    total_price  \\\n",
       "count  150150.000000  150150.000000  150150.000000  150150.000000   \n",
       "mean   106271.555504    9199.422511  254761.132468     206.628502   \n",
       "std     61386.037861     615.591445   85547.306447     103.310400   \n",
       "min         1.000000    8023.000000  216233.000000      41.325000   \n",
       "25%     53111.250000    8562.000000  217217.000000     130.387500   \n",
       "50%    106226.500000    9371.000000  222087.000000     198.075000   \n",
       "75%    159452.750000    9731.000000  245338.000000     233.700000   \n",
       "max    212644.000000    9984.000000  679023.000000     562.162500   \n",
       "\n",
       "          base_price  is_featured_sku  is_display_sku     units_sold  \n",
       "count  150150.000000    150150.000000   150150.000000  150150.000000  \n",
       "mean      219.425927         0.095611        0.133200      51.674206  \n",
       "std       110.961712         0.294058        0.339792      60.207904  \n",
       "min        61.275000         0.000000        0.000000       1.000000  \n",
       "25%       133.237500         0.000000        0.000000      20.000000  \n",
       "50%       205.912500         0.000000        0.000000      35.000000  \n",
       "75%       234.412500         0.000000        0.000000      62.000000  \n",
       "max       562.162500         1.000000        1.000000    2876.000000  "
      ]
     },
     "execution_count": 15,
     "metadata": {},
     "output_type": "execute_result"
    }
   ],
   "source": [
    "train.describe()"
   ]
  },
  {
   "cell_type": "code",
   "execution_count": 16,
   "metadata": {},
   "outputs": [
    {
     "data": {
      "text/html": [
       "<div>\n",
       "<style scoped>\n",
       "    .dataframe tbody tr th:only-of-type {\n",
       "        vertical-align: middle;\n",
       "    }\n",
       "\n",
       "    .dataframe tbody tr th {\n",
       "        vertical-align: top;\n",
       "    }\n",
       "\n",
       "    .dataframe thead th {\n",
       "        text-align: right;\n",
       "    }\n",
       "</style>\n",
       "<table border=\"1\" class=\"dataframe\">\n",
       "  <thead>\n",
       "    <tr style=\"text-align: right;\">\n",
       "      <th></th>\n",
       "      <th>units_sold</th>\n",
       "    </tr>\n",
       "  </thead>\n",
       "  <tbody>\n",
       "    <tr>\n",
       "      <th>count</th>\n",
       "      <td>150150.000000</td>\n",
       "    </tr>\n",
       "    <tr>\n",
       "      <th>mean</th>\n",
       "      <td>51.674206</td>\n",
       "    </tr>\n",
       "    <tr>\n",
       "      <th>std</th>\n",
       "      <td>60.207904</td>\n",
       "    </tr>\n",
       "    <tr>\n",
       "      <th>min</th>\n",
       "      <td>1.000000</td>\n",
       "    </tr>\n",
       "    <tr>\n",
       "      <th>1%</th>\n",
       "      <td>4.000000</td>\n",
       "    </tr>\n",
       "    <tr>\n",
       "      <th>10%</th>\n",
       "      <td>11.000000</td>\n",
       "    </tr>\n",
       "    <tr>\n",
       "      <th>30%</th>\n",
       "      <td>22.000000</td>\n",
       "    </tr>\n",
       "    <tr>\n",
       "      <th>50%</th>\n",
       "      <td>35.000000</td>\n",
       "    </tr>\n",
       "    <tr>\n",
       "      <th>75%</th>\n",
       "      <td>62.000000</td>\n",
       "    </tr>\n",
       "    <tr>\n",
       "      <th>90%</th>\n",
       "      <td>106.000000</td>\n",
       "    </tr>\n",
       "    <tr>\n",
       "      <th>99%</th>\n",
       "      <td>283.000000</td>\n",
       "    </tr>\n",
       "    <tr>\n",
       "      <th>100%</th>\n",
       "      <td>2876.000000</td>\n",
       "    </tr>\n",
       "    <tr>\n",
       "      <th>max</th>\n",
       "      <td>2876.000000</td>\n",
       "    </tr>\n",
       "  </tbody>\n",
       "</table>\n",
       "</div>"
      ],
      "text/plain": [
       "          units_sold\n",
       "count  150150.000000\n",
       "mean       51.674206\n",
       "std        60.207904\n",
       "min         1.000000\n",
       "1%          4.000000\n",
       "10%        11.000000\n",
       "30%        22.000000\n",
       "50%        35.000000\n",
       "75%        62.000000\n",
       "90%       106.000000\n",
       "99%       283.000000\n",
       "100%     2876.000000\n",
       "max      2876.000000"
      ]
     },
     "execution_count": 16,
     "metadata": {},
     "output_type": "execute_result"
    }
   ],
   "source": [
    "pd.DataFrame(train['units_sold'].describe(percentiles=(1,0.99,0.9,0.75,0.5,0.3,0.1,0.01)))"
   ]
  },
  {
   "cell_type": "markdown",
   "metadata": {},
   "source": [
    "WE could see that there is one extreme outlier which is making our data heavily right skewed. Even the 99% of units_sold is 283 only"
   ]
  },
  {
   "cell_type": "code",
   "execution_count": 17,
   "metadata": {},
   "outputs": [
    {
     "data": {
      "text/plain": [
       "<matplotlib.axes._subplots.AxesSubplot at 0x1aa7529b548>"
      ]
     },
     "execution_count": 17,
     "metadata": {},
     "output_type": "execute_result"
    },
    {
     "data": {
      "image/png": "[encoded data removed]",
      "text/plain": [
       "<Figure size 432x288 with 1 Axes>"
      ]
     },
     "metadata": {
      "needs_background": "light"
     },
     "output_type": "display_data"
    }
   ],
   "source": [
    "(train[train['units_sold']<=300].units_sold).hist()"
   ]
  },
  {
   "cell_type": "markdown",
   "metadata": {},
   "source": [
    "Just by removing that outlier we won't get normal distribution. Even then we are having right skewed data. So we have opt for some normalization technique"
   ]
  },
  {
   "cell_type": "code",
   "execution_count": 18,
   "metadata": {},
   "outputs": [
    {
     "data": {
      "text/plain": [
       "<matplotlib.axes._subplots.AxesSubplot at 0x1aa77874608>"
      ]
     },
     "execution_count": 18,
     "metadata": {},
     "output_type": "execute_result"
    },
    {
     "data": {
      "image/png": "[encoded data removed]",
      "text/plain": [
       "<Figure size 432x288 with 1 Axes>"
      ]
     },
     "metadata": {
      "needs_background": "light"
     },
     "output_type": "display_data"
    }
   ],
   "source": [
    "np.log1p(train['units_sold']).hist()"
   ]
  },
  {
   "cell_type": "code",
   "execution_count": 19,
   "metadata": {},
   "outputs": [],
   "source": [
    "from sklearn.preprocessing import LabelEncoder\n",
    "le=LabelEncoder()"
   ]
  },
  {
   "cell_type": "code",
   "execution_count": 20,
   "metadata": {},
   "outputs": [
    {
     "data": {
      "text/plain": [
       "LabelEncoder()"
      ]
     },
     "execution_count": 20,
     "metadata": {},
     "output_type": "execute_result"
    }
   ],
   "source": [
    "le.fit(train['store_sku'])"
   ]
  },
  {
   "cell_type": "code",
   "execution_count": 21,
   "metadata": {},
   "outputs": [],
   "source": [
    "train['store_sku']=le.transform(train['store_sku'])"
   ]
  },
  {
   "cell_type": "code",
   "execution_count": 22,
   "metadata": {},
   "outputs": [],
   "source": [
    "test['store_sku']=le.transform(test['store_sku'])"
   ]
  },
  {
   "cell_type": "code",
   "execution_count": 23,
   "metadata": {},
   "outputs": [
    {
     "data": {
      "text/html": [
       "<div>\n",
       "<style scoped>\n",
       "    .dataframe tbody tr th:only-of-type {\n",
       "        vertical-align: middle;\n",
       "    }\n",
       "\n",
       "    .dataframe tbody tr th {\n",
       "        vertical-align: top;\n",
       "    }\n",
       "\n",
       "    .dataframe thead th {\n",
       "        text-align: right;\n",
       "    }\n",
       "</style>\n",
       "<table border=\"1\" class=\"dataframe\">\n",
       "  <thead>\n",
       "    <tr style=\"text-align: right;\">\n",
       "      <th></th>\n",
       "      <th>record_ID</th>\n",
       "      <th>week</th>\n",
       "      <th>store_id</th>\n",
       "      <th>sku_id</th>\n",
       "      <th>total_price</th>\n",
       "      <th>base_price</th>\n",
       "      <th>is_featured_sku</th>\n",
       "      <th>is_display_sku</th>\n",
       "      <th>units_sold</th>\n",
       "      <th>store_sku</th>\n",
       "    </tr>\n",
       "  </thead>\n",
       "  <tbody>\n",
       "    <tr>\n",
       "      <th>0</th>\n",
       "      <td>1</td>\n",
       "      <td>17/01/11</td>\n",
       "      <td>8091</td>\n",
       "      <td>216418</td>\n",
       "      <td>99.0375</td>\n",
       "      <td>111.8625</td>\n",
       "      <td>0</td>\n",
       "      <td>0</td>\n",
       "      <td>20</td>\n",
       "      <td>56</td>\n",
       "    </tr>\n",
       "    <tr>\n",
       "      <th>1</th>\n",
       "      <td>2</td>\n",
       "      <td>17/01/11</td>\n",
       "      <td>8091</td>\n",
       "      <td>216419</td>\n",
       "      <td>99.0375</td>\n",
       "      <td>99.0375</td>\n",
       "      <td>0</td>\n",
       "      <td>0</td>\n",
       "      <td>28</td>\n",
       "      <td>57</td>\n",
       "    </tr>\n",
       "    <tr>\n",
       "      <th>2</th>\n",
       "      <td>3</td>\n",
       "      <td>17/01/11</td>\n",
       "      <td>8091</td>\n",
       "      <td>216425</td>\n",
       "      <td>133.9500</td>\n",
       "      <td>133.9500</td>\n",
       "      <td>0</td>\n",
       "      <td>0</td>\n",
       "      <td>19</td>\n",
       "      <td>58</td>\n",
       "    </tr>\n",
       "    <tr>\n",
       "      <th>3</th>\n",
       "      <td>4</td>\n",
       "      <td>17/01/11</td>\n",
       "      <td>8091</td>\n",
       "      <td>216233</td>\n",
       "      <td>133.9500</td>\n",
       "      <td>133.9500</td>\n",
       "      <td>0</td>\n",
       "      <td>0</td>\n",
       "      <td>44</td>\n",
       "      <td>55</td>\n",
       "    </tr>\n",
       "    <tr>\n",
       "      <th>4</th>\n",
       "      <td>5</td>\n",
       "      <td>17/01/11</td>\n",
       "      <td>8091</td>\n",
       "      <td>217390</td>\n",
       "      <td>141.0750</td>\n",
       "      <td>141.0750</td>\n",
       "      <td>0</td>\n",
       "      <td>0</td>\n",
       "      <td>52</td>\n",
       "      <td>59</td>\n",
       "    </tr>\n",
       "  </tbody>\n",
       "</table>\n",
       "</div>"
      ],
      "text/plain": [
       "   record_ID      week  store_id  sku_id  total_price  base_price  \\\n",
       "0          1  17/01/11      8091  216418      99.0375    111.8625   \n",
       "1          2  17/01/11      8091  216419      99.0375     99.0375   \n",
       "2          3  17/01/11      8091  216425     133.9500    133.9500   \n",
       "3          4  17/01/11      8091  216233     133.9500    133.9500   \n",
       "4          5  17/01/11      8091  217390     141.0750    141.0750   \n",
       "\n",
       "   is_featured_sku  is_display_sku  units_sold  store_sku  \n",
       "0                0               0          20         56  \n",
       "1                0               0          28         57  \n",
       "2                0               0          19         58  \n",
       "3                0               0          44         55  \n",
       "4                0               0          52         59  "
      ]
     },
     "execution_count": 23,
     "metadata": {},
     "output_type": "execute_result"
    }
   ],
   "source": [
    "train.head()"
   ]
  },
  {
   "cell_type": "code",
   "execution_count": 24,
   "metadata": {},
   "outputs": [],
   "source": [
    "#Making price based new features\n",
    "train['price_diff']=train['base_price']-train['total_price']\n",
    "train['relative_diff_base']=train['price_diff']/train['base_price']\n",
    "train['relative_diff_total']=train['price_diff']/train['total_price']"
   ]
  },
  {
   "cell_type": "code",
   "execution_count": 25,
   "metadata": {},
   "outputs": [],
   "source": [
    "test['price_diff']=test['base_price']-test['total_price']\n",
    "test['relative_diff_base']=test['price_diff']/test['base_price']\n",
    "test['relative_diff_total']=test['price_diff']/test['total_price']"
   ]
  },
  {
   "cell_type": "code",
   "execution_count": 26,
   "metadata": {},
   "outputs": [
    {
     "data": {
      "text/plain": [
       "base_price            -0.140032\n",
       "total_price           -0.235634\n",
       "price_diff             0.278283\n",
       "relative_diff_base     0.364841\n",
       "relative_diff_total    0.365690\n",
       "is_featured_sku        0.337751\n",
       "is_display_sku         0.362662\n",
       "units_sold             1.000000\n",
       "store_sku              0.005503\n",
       "Name: units_sold, dtype: float64"
      ]
     },
     "execution_count": 26,
     "metadata": {},
     "output_type": "execute_result"
    }
   ],
   "source": [
    "# Studying correlation between features and the target. This will help us in regression later.\n",
    "cols = ['base_price', 'total_price', 'price_diff', 'relative_diff_base', 'relative_diff_total'\n",
    "        , 'is_featured_sku', 'is_display_sku', 'units_sold','store_sku']\n",
    "train[cols].corr().loc['units_sold']\n"
   ]
  },
  {
   "cell_type": "markdown",
   "metadata": {},
   "source": [
    "Lets do a baseline regression with htese features"
   ]
  },
  {
   "cell_type": "code",
   "execution_count": 27,
   "metadata": {},
   "outputs": [],
   "source": [
    "cols.remove('units_sold')\n"
   ]
  },
  {
   "cell_type": "code",
   "execution_count": 28,
   "metadata": {},
   "outputs": [],
   "source": [
    "from sklearn.model_selection import train_test_split"
   ]
  },
  {
   "cell_type": "code",
   "execution_count": 29,
   "metadata": {},
   "outputs": [],
   "source": [
    "X=train[cols]\n",
    "y=np.log1p(train['units_sold'])   # Transforming target into normal via log"
   ]
  },
  {
   "cell_type": "code",
   "execution_count": 30,
   "metadata": {},
   "outputs": [
    {
     "name": "stdout",
     "output_type": "stream",
     "text": [
      "(120120, 8) (30030, 8) (120120,) (30030,)\n"
     ]
    }
   ],
   "source": [
    "X_train,X_val,y_train,y_val=train_test_split(X,y,test_size=0.2,random_state=1)\n",
    "print(X_train.shape,X_val.shape,y_train.shape,y_val.shape)"
   ]
  },
  {
   "cell_type": "code",
   "execution_count": 31,
   "metadata": {},
   "outputs": [],
   "source": [
    "from sklearn.ensemble import RandomForestRegressor"
   ]
  },
  {
   "cell_type": "code",
   "execution_count": 32,
   "metadata": {},
   "outputs": [],
   "source": [
    "reg=RandomForestRegressor()"
   ]
  },
  {
   "cell_type": "code",
   "execution_count": 33,
   "metadata": {},
   "outputs": [
    {
     "data": {
      "text/plain": [
       "RandomForestRegressor()"
      ]
     },
     "execution_count": 33,
     "metadata": {},
     "output_type": "execute_result"
    }
   ],
   "source": [
    "reg.fit(X_train,y_train)"
   ]
  },
  {
   "cell_type": "code",
   "execution_count": 34,
   "metadata": {},
   "outputs": [],
   "source": [
    "rf_preds=reg.predict(X_val)"
   ]
  },
  {
   "cell_type": "code",
   "execution_count": 35,
   "metadata": {},
   "outputs": [],
   "source": [
    "from sklearn.metrics import mean_squared_log_error"
   ]
  },
  {
   "cell_type": "code",
   "execution_count": 36,
   "metadata": {},
   "outputs": [
    {
     "data": {
      "text/plain": [
       "413.8010132416207"
      ]
     },
     "execution_count": 36,
     "metadata": {},
     "output_type": "execute_result"
    }
   ],
   "source": [
    "RMSLE(np.exp(y_val),np.exp(rf_preds))"
   ]
  },
  {
   "cell_type": "markdown",
   "metadata": {},
   "source": [
    "SKU level base model fitting:\n",
    "\n",
    "    Since the features store and sku id have high cardinality. we shall encode it using MEstimate encoder"
   ]
  },
  {
   "cell_type": "code",
   "execution_count": 37,
   "metadata": {},
   "outputs": [],
   "source": [
    "from category_encoders import TargetEncoder,MEstimateEncoder"
   ]
  },
  {
   "cell_type": "code",
   "execution_count": 38,
   "metadata": {},
   "outputs": [],
   "source": [
    "encoder=MEstimateEncoder()"
   ]
  },
  {
   "cell_type": "code",
   "execution_count": 39,
   "metadata": {},
   "outputs": [
    {
     "data": {
      "text/plain": [
       "MEstimateEncoder(cols=[])"
      ]
     },
     "execution_count": 39,
     "metadata": {},
     "output_type": "execute_result"
    }
   ],
   "source": [
    "encoder.fit(train['store_id'],train['units_sold'])"
   ]
  },
  {
   "cell_type": "code",
   "execution_count": 40,
   "metadata": {},
   "outputs": [],
   "source": [
    "train['store_encoded'] = encoder.transform(train['store_id'], train['units_sold'])\n",
    "test['store_encoded'] = encoder.transform(test['store_id'])"
   ]
  },
  {
   "cell_type": "code",
   "execution_count": 41,
   "metadata": {},
   "outputs": [],
   "source": [
    "encoder.fit(train['sku_id'], train['units_sold'])\n",
    "train['sku_encoded'] = encoder.transform(train['sku_id'], train['units_sold'])\n",
    "test['sku_encoded'] = encoder.transform(test['sku_id'])\n"
   ]
  },
  {
   "cell_type": "code",
   "execution_count": 42,
   "metadata": {},
   "outputs": [
    {
     "data": {
      "text/html": [
       "<div>\n",
       "<style scoped>\n",
       "    .dataframe tbody tr th:only-of-type {\n",
       "        vertical-align: middle;\n",
       "    }\n",
       "\n",
       "    .dataframe tbody tr th {\n",
       "        vertical-align: top;\n",
       "    }\n",
       "\n",
       "    .dataframe thead th {\n",
       "        text-align: right;\n",
       "    }\n",
       "</style>\n",
       "<table border=\"1\" class=\"dataframe\">\n",
       "  <thead>\n",
       "    <tr style=\"text-align: right;\">\n",
       "      <th></th>\n",
       "      <th>record_ID</th>\n",
       "      <th>week</th>\n",
       "      <th>store_id</th>\n",
       "      <th>sku_id</th>\n",
       "      <th>total_price</th>\n",
       "      <th>base_price</th>\n",
       "      <th>is_featured_sku</th>\n",
       "      <th>is_display_sku</th>\n",
       "      <th>units_sold</th>\n",
       "      <th>store_sku</th>\n",
       "      <th>price_diff</th>\n",
       "      <th>relative_diff_base</th>\n",
       "      <th>relative_diff_total</th>\n",
       "      <th>store_encoded</th>\n",
       "      <th>sku_encoded</th>\n",
       "    </tr>\n",
       "  </thead>\n",
       "  <tbody>\n",
       "    <tr>\n",
       "      <th>150145</th>\n",
       "      <td>212638</td>\n",
       "      <td>09/07/13</td>\n",
       "      <td>9984</td>\n",
       "      <td>223245</td>\n",
       "      <td>235.8375</td>\n",
       "      <td>235.8375</td>\n",
       "      <td>0</td>\n",
       "      <td>0</td>\n",
       "      <td>38</td>\n",
       "      <td>1148</td>\n",
       "      <td>0.0000</td>\n",
       "      <td>0.000000</td>\n",
       "      <td>0.000000</td>\n",
       "      <td>9984</td>\n",
       "      <td>223245</td>\n",
       "    </tr>\n",
       "    <tr>\n",
       "      <th>150146</th>\n",
       "      <td>212639</td>\n",
       "      <td>09/07/13</td>\n",
       "      <td>9984</td>\n",
       "      <td>223153</td>\n",
       "      <td>235.8375</td>\n",
       "      <td>235.8375</td>\n",
       "      <td>0</td>\n",
       "      <td>0</td>\n",
       "      <td>30</td>\n",
       "      <td>1147</td>\n",
       "      <td>0.0000</td>\n",
       "      <td>0.000000</td>\n",
       "      <td>0.000000</td>\n",
       "      <td>9984</td>\n",
       "      <td>223153</td>\n",
       "    </tr>\n",
       "    <tr>\n",
       "      <th>150147</th>\n",
       "      <td>212642</td>\n",
       "      <td>09/07/13</td>\n",
       "      <td>9984</td>\n",
       "      <td>245338</td>\n",
       "      <td>357.6750</td>\n",
       "      <td>483.7875</td>\n",
       "      <td>1</td>\n",
       "      <td>1</td>\n",
       "      <td>31</td>\n",
       "      <td>1149</td>\n",
       "      <td>126.1125</td>\n",
       "      <td>0.260677</td>\n",
       "      <td>0.352590</td>\n",
       "      <td>9984</td>\n",
       "      <td>245338</td>\n",
       "    </tr>\n",
       "    <tr>\n",
       "      <th>150148</th>\n",
       "      <td>212643</td>\n",
       "      <td>09/07/13</td>\n",
       "      <td>9984</td>\n",
       "      <td>547934</td>\n",
       "      <td>141.7875</td>\n",
       "      <td>191.6625</td>\n",
       "      <td>0</td>\n",
       "      <td>1</td>\n",
       "      <td>12</td>\n",
       "      <td>1153</td>\n",
       "      <td>49.8750</td>\n",
       "      <td>0.260223</td>\n",
       "      <td>0.351759</td>\n",
       "      <td>9984</td>\n",
       "      <td>547934</td>\n",
       "    </tr>\n",
       "    <tr>\n",
       "      <th>150149</th>\n",
       "      <td>212644</td>\n",
       "      <td>09/07/13</td>\n",
       "      <td>9984</td>\n",
       "      <td>679023</td>\n",
       "      <td>234.4125</td>\n",
       "      <td>234.4125</td>\n",
       "      <td>0</td>\n",
       "      <td>0</td>\n",
       "      <td>15</td>\n",
       "      <td>1154</td>\n",
       "      <td>0.0000</td>\n",
       "      <td>0.000000</td>\n",
       "      <td>0.000000</td>\n",
       "      <td>9984</td>\n",
       "      <td>679023</td>\n",
       "    </tr>\n",
       "  </tbody>\n",
       "</table>\n",
       "</div>"
      ],
      "text/plain": [
       "        record_ID      week  store_id  sku_id  total_price  base_price  \\\n",
       "150145     212638  09/07/13      9984  223245     235.8375    235.8375   \n",
       "150146     212639  09/07/13      9984  223153     235.8375    235.8375   \n",
       "150147     212642  09/07/13      9984  245338     357.6750    483.7875   \n",
       "150148     212643  09/07/13      9984  547934     141.7875    191.6625   \n",
       "150149     212644  09/07/13      9984  679023     234.4125    234.4125   \n",
       "\n",
       "        is_featured_sku  is_display_sku  units_sold  store_sku  price_diff  \\\n",
       "150145                0               0          38       1148      0.0000   \n",
       "150146                0               0          30       1147      0.0000   \n",
       "150147                1               1          31       1149    126.1125   \n",
       "150148                0               1          12       1153     49.8750   \n",
       "150149                0               0          15       1154      0.0000   \n",
       "\n",
       "        relative_diff_base  relative_diff_total  store_encoded  sku_encoded  \n",
       "150145            0.000000             0.000000           9984       223245  \n",
       "150146            0.000000             0.000000           9984       223153  \n",
       "150147            0.260677             0.352590           9984       245338  \n",
       "150148            0.260223             0.351759           9984       547934  \n",
       "150149            0.000000             0.000000           9984       679023  "
      ]
     },
     "execution_count": 42,
     "metadata": {},
     "output_type": "execute_result"
    }
   ],
   "source": [
    "train.tail()"
   ]
  },
  {
   "cell_type": "code",
   "execution_count": 43,
   "metadata": {},
   "outputs": [],
   "source": [
    "skus = train.sku_id.unique()"
   ]
  },
  {
   "cell_type": "code",
   "execution_count": 44,
   "metadata": {},
   "outputs": [],
   "source": [
    "cols_to_use = cols + ['store_encoded', 'sku_encoded']\n"
   ]
  },
  {
   "cell_type": "markdown",
   "metadata": {},
   "source": [
    "Now, we would also like to incorporate the store_id as one of the defining features of the multiple models that we are building. But as the problem statement defines, there are 76 different models for each one of them across each sku will be tough\n",
    "We will be using LightGBM's categorical features' input to our rescue. "
   ]
  },
  {
   "cell_type": "markdown",
   "metadata": {},
   "source": [
    "LightGBM regressor"
   ]
  },
  {
   "cell_type": "code",
   "execution_count": 45,
   "metadata": {},
   "outputs": [],
   "source": [
    "import lightgbm as lgb\n",
    "from lightgbm import LGBMRegressor\n",
    "from sklearn.model_selection import cross_val_score, KFold, StratifiedKFold\n"
   ]
  },
  {
   "cell_type": "code",
   "execution_count": 46,
   "metadata": {},
   "outputs": [
    {
     "data": {
      "text/plain": [
       "['base_price',\n",
       " 'total_price',\n",
       " 'price_diff',\n",
       " 'relative_diff_base',\n",
       " 'relative_diff_total',\n",
       " 'is_featured_sku',\n",
       " 'is_display_sku',\n",
       " 'store_sku',\n",
       " 'store_encoded',\n",
       " 'sku_encoded']"
      ]
     },
     "execution_count": 46,
     "metadata": {},
     "output_type": "execute_result"
    }
   ],
   "source": [
    "cols_to_use"
   ]
  },
  {
   "cell_type": "code",
   "execution_count": 47,
   "metadata": {},
   "outputs": [],
   "source": [
    "cols_to_use += ['store_id', 'sku_id']\n",
    "# For defining categorical features to the model, we will build `cat_cols`\n",
    "cat_cols = ['is_featured_sku', 'is_display_sku', 'store_id', 'sku_id']"
   ]
  },
  {
   "cell_type": "code",
   "execution_count": 75,
   "metadata": {},
   "outputs": [],
   "source": [
    "cols1=['base_price',\n",
    " 'total_price',\n",
    " 'price_diff',\n",
    " 'relative_diff_base',\n",
    " 'relative_diff_total',\n",
    " 'is_featured_sku',\n",
    " 'is_display_sku',\n",
    " 'store_sku',\n",
    " 'store_encoded',\n",
    " 'sku_encoded']\n"
   ]
  },
  {
   "cell_type": "code",
   "execution_count": 76,
   "metadata": {},
   "outputs": [],
   "source": [
    "cols1 += ['store_id', 'sku_id']"
   ]
  },
  {
   "cell_type": "code",
   "execution_count": 84,
   "metadata": {},
   "outputs": [],
   "source": [
    "Xtest1=test[cols1]"
   ]
  },
  {
   "cell_type": "code",
   "execution_count": 85,
   "metadata": {},
   "outputs": [],
   "source": [
    "finpred=m.predict(Xtest1)"
   ]
  },
  {
   "cell_type": "code",
   "execution_count": 86,
   "metadata": {},
   "outputs": [
    {
     "data": {
      "text/plain": [
       "array([3.11638859, 2.97830416, 3.09594904, ..., 3.07897424, 2.38017725,\n",
       "       2.34630799])"
      ]
     },
     "execution_count": 86,
     "metadata": {},
     "output_type": "execute_result"
    }
   ],
   "source": [
    "finpred"
   ]
  },
  {
   "cell_type": "code",
   "execution_count": 89,
   "metadata": {},
   "outputs": [],
   "source": [
    "finpred1=np.expm1(finpred)"
   ]
  },
  {
   "cell_type": "code",
   "execution_count": 90,
   "metadata": {},
   "outputs": [
    {
     "data": {
      "text/plain": [
       "array([21.56474178, 18.65445755, 21.10821019, ..., 20.73609491,\n",
       "        9.80681818,  9.4469283 ])"
      ]
     },
     "execution_count": 90,
     "metadata": {},
     "output_type": "execute_result"
    }
   ],
   "source": [
    "finpred1"
   ]
  },
  {
   "cell_type": "code",
   "execution_count": 92,
   "metadata": {},
   "outputs": [
    {
     "data": {
      "text/html": [
       "<div>\n",
       "<style scoped>\n",
       "    .dataframe tbody tr th:only-of-type {\n",
       "        vertical-align: middle;\n",
       "    }\n",
       "\n",
       "    .dataframe tbody tr th {\n",
       "        vertical-align: top;\n",
       "    }\n",
       "\n",
       "    .dataframe thead th {\n",
       "        text-align: right;\n",
       "    }\n",
       "</style>\n",
       "<table border=\"1\" class=\"dataframe\">\n",
       "  <thead>\n",
       "    <tr style=\"text-align: right;\">\n",
       "      <th></th>\n",
       "      <th>record_ID</th>\n",
       "      <th>units_sold</th>\n",
       "    </tr>\n",
       "  </thead>\n",
       "  <tbody>\n",
       "    <tr>\n",
       "      <th>0</th>\n",
       "      <td>212645</td>\n",
       "      <td>0</td>\n",
       "    </tr>\n",
       "    <tr>\n",
       "      <th>1</th>\n",
       "      <td>212646</td>\n",
       "      <td>0</td>\n",
       "    </tr>\n",
       "    <tr>\n",
       "      <th>2</th>\n",
       "      <td>212647</td>\n",
       "      <td>0</td>\n",
       "    </tr>\n",
       "    <tr>\n",
       "      <th>3</th>\n",
       "      <td>212648</td>\n",
       "      <td>0</td>\n",
       "    </tr>\n",
       "    <tr>\n",
       "      <th>4</th>\n",
       "      <td>212649</td>\n",
       "      <td>0</td>\n",
       "    </tr>\n",
       "  </tbody>\n",
       "</table>\n",
       "</div>"
      ],
      "text/plain": [
       "   record_ID  units_sold\n",
       "0     212645           0\n",
       "1     212646           0\n",
       "2     212647           0\n",
       "3     212648           0\n",
       "4     212649           0"
      ]
     },
     "execution_count": 92,
     "metadata": {},
     "output_type": "execute_result"
    }
   ],
   "source": [
    "submit.head()"
   ]
  },
  {
   "cell_type": "code",
   "execution_count": 93,
   "metadata": {},
   "outputs": [],
   "source": [
    "submit['units_sold'] = finpred1\n",
    "submit.to_csv('lgb_demand_sku.csv', index = False)\n"
   ]
  },
  {
   "cell_type": "code",
   "execution_count": null,
   "metadata": {},
   "outputs": [],
   "source": []
  },
  {
   "cell_type": "code",
   "execution_count": 79,
   "metadata": {},
   "outputs": [],
   "source": [
    "X=train[cols1]\n",
    "y=np.log1p(train['units_sold']) #Transforming target into normal via log"
   ]
  },
  {
   "cell_type": "code",
   "execution_count": 80,
   "metadata": {},
   "outputs": [
    {
     "name": "stdout",
     "output_type": "stream",
     "text": [
      "(120120, 12) (120120,) (30030, 12) (30030,)\n"
     ]
    }
   ],
   "source": [
    "Xtrain, Xval, ytrain, yval = train_test_split(X, y, test_size = 0.2, random_state = 1)\n",
    "print(Xtrain.shape, ytrain.shape, Xval.shape, yval.shape)\n"
   ]
  },
  {
   "cell_type": "code",
   "execution_count": 50,
   "metadata": {},
   "outputs": [],
   "source": [
    "Xtest=test[cols_to_use]"
   ]
  },
  {
   "cell_type": "code",
   "execution_count": 81,
   "metadata": {},
   "outputs": [
    {
     "name": "stdout",
     "output_type": "stream",
     "text": [
      "Training until validation scores don't improve for 100 rounds\n",
      "[100]\tvalid_0's rmse: 0.55931\tvalid_0's l2: 0.312828\n",
      "[200]\tvalid_0's rmse: 0.49014\tvalid_0's l2: 0.240238\n",
      "[300]\tvalid_0's rmse: 0.456078\tvalid_0's l2: 0.208007\n",
      "[400]\tvalid_0's rmse: 0.437146\tvalid_0's l2: 0.191096\n",
      "[500]\tvalid_0's rmse: 0.425245\tvalid_0's l2: 0.180833\n",
      "[600]\tvalid_0's rmse: 0.417304\tvalid_0's l2: 0.174142\n",
      "[700]\tvalid_0's rmse: 0.411496\tvalid_0's l2: 0.169329\n",
      "[800]\tvalid_0's rmse: 0.407449\tvalid_0's l2: 0.166015\n",
      "[900]\tvalid_0's rmse: 0.40439\tvalid_0's l2: 0.163531\n",
      "[1000]\tvalid_0's rmse: 0.402008\tvalid_0's l2: 0.16161\n",
      "[1100]\tvalid_0's rmse: 0.399942\tvalid_0's l2: 0.159953\n",
      "[1200]\tvalid_0's rmse: 0.39812\tvalid_0's l2: 0.1585\n",
      "[1300]\tvalid_0's rmse: 0.396621\tvalid_0's l2: 0.157308\n",
      "[1400]\tvalid_0's rmse: 0.395357\tvalid_0's l2: 0.156307\n",
      "[1500]\tvalid_0's rmse: 0.394237\tvalid_0's l2: 0.155423\n",
      "[1600]\tvalid_0's rmse: 0.393213\tvalid_0's l2: 0.154617\n",
      "[1700]\tvalid_0's rmse: 0.392264\tvalid_0's l2: 0.153871\n",
      "[1800]\tvalid_0's rmse: 0.391458\tvalid_0's l2: 0.15324\n",
      "[1900]\tvalid_0's rmse: 0.39096\tvalid_0's l2: 0.15285\n",
      "[2000]\tvalid_0's rmse: 0.390475\tvalid_0's l2: 0.152471\n",
      "[2100]\tvalid_0's rmse: 0.390007\tvalid_0's l2: 0.152105\n",
      "[2200]\tvalid_0's rmse: 0.389681\tvalid_0's l2: 0.151852\n",
      "[2300]\tvalid_0's rmse: 0.389331\tvalid_0's l2: 0.151578\n",
      "[2400]\tvalid_0's rmse: 0.388949\tvalid_0's l2: 0.151282\n",
      "[2500]\tvalid_0's rmse: 0.38864\tvalid_0's l2: 0.151041\n",
      "[2600]\tvalid_0's rmse: 0.388387\tvalid_0's l2: 0.150844\n",
      "[2700]\tvalid_0's rmse: 0.388162\tvalid_0's l2: 0.15067\n",
      "[2800]\tvalid_0's rmse: 0.388005\tvalid_0's l2: 0.150548\n",
      "[2900]\tvalid_0's rmse: 0.387816\tvalid_0's l2: 0.150401\n",
      "[3000]\tvalid_0's rmse: 0.387633\tvalid_0's l2: 0.15026\n",
      "[3100]\tvalid_0's rmse: 0.38744\tvalid_0's l2: 0.15011\n",
      "[3200]\tvalid_0's rmse: 0.387347\tvalid_0's l2: 0.150038\n",
      "[3300]\tvalid_0's rmse: 0.387237\tvalid_0's l2: 0.149952\n",
      "[3400]\tvalid_0's rmse: 0.38716\tvalid_0's l2: 0.149893\n",
      "[3500]\tvalid_0's rmse: 0.387075\tvalid_0's l2: 0.149827\n",
      "Did not meet early stopping. Best iteration is:\n",
      "[3500]\tvalid_0's rmse: 0.387075\tvalid_0's l2: 0.149827\n"
     ]
    },
    {
     "data": {
      "text/plain": [
       "LGBMRegressor(colsample_bytree=0.4, learning_rate=0.02, max_depth=8,\n",
       "              min_child_samples=4, n_estimators=3500, num_leaves=127,\n",
       "              reg_alpha=0.5, reg_lambda=2)"
      ]
     },
     "execution_count": 81,
     "metadata": {},
     "output_type": "execute_result"
    }
   ],
   "source": [
    "m = LGBMRegressor(n_estimators=3500, \n",
    "                  num_leaves=127, \n",
    "                  max_depth=8,\n",
    "                  min_child_samples=4,\n",
    "                  learning_rate=0.02,\n",
    "                  colsample_bytree=0.4,\n",
    "                  reg_alpha=0.5,\n",
    "                  reg_lambda=2)\n",
    "m.fit(Xtrain,ytrain,eval_set=[(Xval, yval)],early_stopping_rounds=100, verbose=100,eval_metric='rmse')\n"
   ]
  },
  {
   "cell_type": "code",
   "execution_count": 82,
   "metadata": {},
   "outputs": [],
   "source": [
    "lgpred=m.predict(Xval)"
   ]
  },
  {
   "cell_type": "code",
   "execution_count": 83,
   "metadata": {},
   "outputs": [
    {
     "data": {
      "text/plain": [
       "366.9707174199718"
      ]
     },
     "execution_count": 83,
     "metadata": {},
     "output_type": "execute_result"
    }
   ],
   "source": [
    "RMSLE(np.exp(yval),np.exp(lgpred))"
   ]
  },
  {
   "cell_type": "code",
   "execution_count": 84,
   "metadata": {},
   "outputs": [],
   "source": [
    "Xtest1=test[cols1]"
   ]
  },
  {
   "cell_type": "code",
   "execution_count": 85,
   "metadata": {},
   "outputs": [],
   "source": [
    "finpred=m.predict(Xtest1)"
   ]
  },
  {
   "cell_type": "code",
   "execution_count": 86,
   "metadata": {},
   "outputs": [
    {
     "data": {
      "text/plain": [
       "array([3.11638859, 2.97830416, 3.09594904, ..., 3.07897424, 2.38017725,\n",
       "       2.34630799])"
      ]
     },
     "execution_count": 86,
     "metadata": {},
     "output_type": "execute_result"
    }
   ],
   "source": [
    "finpred"
   ]
  },
  {
   "cell_type": "code",
   "execution_count": 89,
   "metadata": {},
   "outputs": [],
   "source": [
    "finpred1=np.expm1(finpred)"
   ]
  },
  {
   "cell_type": "code",
   "execution_count": 90,
   "metadata": {},
   "outputs": [
    {
     "data": {
      "text/plain": [
       "array([21.56474178, 18.65445755, 21.10821019, ..., 20.73609491,\n",
       "        9.80681818,  9.4469283 ])"
      ]
     },
     "execution_count": 90,
     "metadata": {},
     "output_type": "execute_result"
    }
   ],
   "source": [
    "finpred1"
   ]
  },
  {
   "cell_type": "code",
   "execution_count": 92,
   "metadata": {},
   "outputs": [
    {
     "data": {
      "text/html": [
       "<div>\n",
       "<style scoped>\n",
       "    .dataframe tbody tr th:only-of-type {\n",
       "        vertical-align: middle;\n",
       "    }\n",
       "\n",
       "    .dataframe tbody tr th {\n",
       "        vertical-align: top;\n",
       "    }\n",
       "\n",
       "    .dataframe thead th {\n",
       "        text-align: right;\n",
       "    }\n",
       "</style>\n",
       "<table border=\"1\" class=\"dataframe\">\n",
       "  <thead>\n",
       "    <tr style=\"text-align: right;\">\n",
       "      <th></th>\n",
       "      <th>record_ID</th>\n",
       "      <th>units_sold</th>\n",
       "    </tr>\n",
       "  </thead>\n",
       "  <tbody>\n",
       "    <tr>\n",
       "      <th>0</th>\n",
       "      <td>212645</td>\n",
       "      <td>0</td>\n",
       "    </tr>\n",
       "    <tr>\n",
       "      <th>1</th>\n",
       "      <td>212646</td>\n",
       "      <td>0</td>\n",
       "    </tr>\n",
       "    <tr>\n",
       "      <th>2</th>\n",
       "      <td>212647</td>\n",
       "      <td>0</td>\n",
       "    </tr>\n",
       "    <tr>\n",
       "      <th>3</th>\n",
       "      <td>212648</td>\n",
       "      <td>0</td>\n",
       "    </tr>\n",
       "    <tr>\n",
       "      <th>4</th>\n",
       "      <td>212649</td>\n",
       "      <td>0</td>\n",
       "    </tr>\n",
       "  </tbody>\n",
       "</table>\n",
       "</div>"
      ],
      "text/plain": [
       "   record_ID  units_sold\n",
       "0     212645           0\n",
       "1     212646           0\n",
       "2     212647           0\n",
       "3     212648           0\n",
       "4     212649           0"
      ]
     },
     "execution_count": 92,
     "metadata": {},
     "output_type": "execute_result"
    }
   ],
   "source": [
    "submit.head()"
   ]
  },
  {
   "cell_type": "code",
   "execution_count": 93,
   "metadata": {},
   "outputs": [],
   "source": [
    "submit['units_sold'] = finpred1\n",
    "submit.to_csv('lgb_demand_sku.csv', index = False)\n"
   ]
  },
  {
   "cell_type": "code",
   "execution_count": null,
   "metadata": {},
   "outputs": [],
   "source": []
  },
  {
   "cell_type": "markdown",
   "metadata": {},
   "source": [
    "### Extracting Date time features"
   ]
  },
  {
   "cell_type": "code",
   "execution_count": 54,
   "metadata": {},
   "outputs": [],
   "source": [
    "from datetime import datetime"
   ]
  },
  {
   "cell_type": "code",
   "execution_count": 55,
   "metadata": {},
   "outputs": [],
   "source": [
    "train['week'] = train['week'].astype('str')\n",
    "train['week'] = [datetime.strptime(x, '%d/%m/%y') for x in train['week']]\n"
   ]
  },
  {
   "cell_type": "code",
   "execution_count": 56,
   "metadata": {},
   "outputs": [],
   "source": [
    "test['week']=test['week'].astype('str')\n",
    "test['week']=[datetime.strptime(x,'%d/%m/%y') for x in test['week']]"
   ]
  },
  {
   "cell_type": "code",
   "execution_count": 57,
   "metadata": {},
   "outputs": [
    {
     "name": "stderr",
     "output_type": "stream",
     "text": [
      "C:\\Users\\91999\\anaconda3\\lib\\site-packages\\ipykernel_launcher.py:5: FutureWarning: Series.dt.weekofyear and Series.dt.week have been deprecated.  Please use Series.dt.isocalendar().week instead.\n",
      "  \"\"\"\n"
     ]
    }
   ],
   "source": [
    "train['year'] = train['week'].dt.year\n",
    "train['date'] = [x.day for x in train['week']]\n",
    "train['month'] = train['week'].dt.month\n",
    "train['weekday'] = train['week'].dt.dayofweek\n",
    "train['weeknum'] = train['week'].dt.weekofyear\n",
    "train['wom']=train['week'].apply(lambda d:(d.day-1)//7+1)"
   ]
  },
  {
   "cell_type": "code",
   "execution_count": 58,
   "metadata": {},
   "outputs": [
    {
     "name": "stderr",
     "output_type": "stream",
     "text": [
      "C:\\Users\\91999\\anaconda3\\lib\\site-packages\\ipykernel_launcher.py:5: FutureWarning: Series.dt.weekofyear and Series.dt.week have been deprecated.  Please use Series.dt.isocalendar().week instead.\n",
      "  \"\"\"\n"
     ]
    }
   ],
   "source": [
    "test['year'] = test['week'].dt.year\n",
    "test['date'] = [x.day for x in test['week']]\n",
    "test['month'] = test['week'].dt.month\n",
    "test['weekday'] = test['week'].dt.dayofweek\n",
    "test['weeknum'] = test['week'].dt.weekofyear\n",
    "test['wom']=test['week'].apply(lambda d:(d.day-1)//7+1)"
   ]
  },
  {
   "cell_type": "code",
   "execution_count": 94,
   "metadata": {},
   "outputs": [
    {
     "data": {
      "text/html": [
       "<div>\n",
       "<style scoped>\n",
       "    .dataframe tbody tr th:only-of-type {\n",
       "        vertical-align: middle;\n",
       "    }\n",
       "\n",
       "    .dataframe tbody tr th {\n",
       "        vertical-align: top;\n",
       "    }\n",
       "\n",
       "    .dataframe thead th {\n",
       "        text-align: right;\n",
       "    }\n",
       "</style>\n",
       "<table border=\"1\" class=\"dataframe\">\n",
       "  <thead>\n",
       "    <tr style=\"text-align: right;\">\n",
       "      <th></th>\n",
       "      <th>record_ID</th>\n",
       "      <th>week</th>\n",
       "      <th>store_id</th>\n",
       "      <th>sku_id</th>\n",
       "      <th>total_price</th>\n",
       "      <th>base_price</th>\n",
       "      <th>is_featured_sku</th>\n",
       "      <th>is_display_sku</th>\n",
       "      <th>units_sold</th>\n",
       "      <th>store_sku</th>\n",
       "      <th>...</th>\n",
       "      <th>relative_diff_base</th>\n",
       "      <th>relative_diff_total</th>\n",
       "      <th>store_encoded</th>\n",
       "      <th>sku_encoded</th>\n",
       "      <th>year</th>\n",
       "      <th>date</th>\n",
       "      <th>month</th>\n",
       "      <th>weekday</th>\n",
       "      <th>weeknum</th>\n",
       "      <th>wom</th>\n",
       "    </tr>\n",
       "  </thead>\n",
       "  <tbody>\n",
       "    <tr>\n",
       "      <th>0</th>\n",
       "      <td>1</td>\n",
       "      <td>2011-01-17</td>\n",
       "      <td>8091</td>\n",
       "      <td>216418</td>\n",
       "      <td>99.0375</td>\n",
       "      <td>111.8625</td>\n",
       "      <td>0</td>\n",
       "      <td>0</td>\n",
       "      <td>20</td>\n",
       "      <td>56</td>\n",
       "      <td>...</td>\n",
       "      <td>0.11465</td>\n",
       "      <td>0.129496</td>\n",
       "      <td>8091</td>\n",
       "      <td>216418</td>\n",
       "      <td>2011</td>\n",
       "      <td>17</td>\n",
       "      <td>1</td>\n",
       "      <td>0</td>\n",
       "      <td>3</td>\n",
       "      <td>3</td>\n",
       "    </tr>\n",
       "    <tr>\n",
       "      <th>1</th>\n",
       "      <td>2</td>\n",
       "      <td>2011-01-17</td>\n",
       "      <td>8091</td>\n",
       "      <td>216419</td>\n",
       "      <td>99.0375</td>\n",
       "      <td>99.0375</td>\n",
       "      <td>0</td>\n",
       "      <td>0</td>\n",
       "      <td>28</td>\n",
       "      <td>57</td>\n",
       "      <td>...</td>\n",
       "      <td>0.00000</td>\n",
       "      <td>0.000000</td>\n",
       "      <td>8091</td>\n",
       "      <td>216419</td>\n",
       "      <td>2011</td>\n",
       "      <td>17</td>\n",
       "      <td>1</td>\n",
       "      <td>0</td>\n",
       "      <td>3</td>\n",
       "      <td>3</td>\n",
       "    </tr>\n",
       "    <tr>\n",
       "      <th>2</th>\n",
       "      <td>3</td>\n",
       "      <td>2011-01-17</td>\n",
       "      <td>8091</td>\n",
       "      <td>216425</td>\n",
       "      <td>133.9500</td>\n",
       "      <td>133.9500</td>\n",
       "      <td>0</td>\n",
       "      <td>0</td>\n",
       "      <td>19</td>\n",
       "      <td>58</td>\n",
       "      <td>...</td>\n",
       "      <td>0.00000</td>\n",
       "      <td>0.000000</td>\n",
       "      <td>8091</td>\n",
       "      <td>216425</td>\n",
       "      <td>2011</td>\n",
       "      <td>17</td>\n",
       "      <td>1</td>\n",
       "      <td>0</td>\n",
       "      <td>3</td>\n",
       "      <td>3</td>\n",
       "    </tr>\n",
       "    <tr>\n",
       "      <th>3</th>\n",
       "      <td>4</td>\n",
       "      <td>2011-01-17</td>\n",
       "      <td>8091</td>\n",
       "      <td>216233</td>\n",
       "      <td>133.9500</td>\n",
       "      <td>133.9500</td>\n",
       "      <td>0</td>\n",
       "      <td>0</td>\n",
       "      <td>44</td>\n",
       "      <td>55</td>\n",
       "      <td>...</td>\n",
       "      <td>0.00000</td>\n",
       "      <td>0.000000</td>\n",
       "      <td>8091</td>\n",
       "      <td>216233</td>\n",
       "      <td>2011</td>\n",
       "      <td>17</td>\n",
       "      <td>1</td>\n",
       "      <td>0</td>\n",
       "      <td>3</td>\n",
       "      <td>3</td>\n",
       "    </tr>\n",
       "    <tr>\n",
       "      <th>4</th>\n",
       "      <td>5</td>\n",
       "      <td>2011-01-17</td>\n",
       "      <td>8091</td>\n",
       "      <td>217390</td>\n",
       "      <td>141.0750</td>\n",
       "      <td>141.0750</td>\n",
       "      <td>0</td>\n",
       "      <td>0</td>\n",
       "      <td>52</td>\n",
       "      <td>59</td>\n",
       "      <td>...</td>\n",
       "      <td>0.00000</td>\n",
       "      <td>0.000000</td>\n",
       "      <td>8091</td>\n",
       "      <td>217390</td>\n",
       "      <td>2011</td>\n",
       "      <td>17</td>\n",
       "      <td>1</td>\n",
       "      <td>0</td>\n",
       "      <td>3</td>\n",
       "      <td>3</td>\n",
       "    </tr>\n",
       "  </tbody>\n",
       "</table>\n",
       "<p>5 rows × 21 columns</p>\n",
       "</div>"
      ],
      "text/plain": [
       "   record_ID       week  store_id  sku_id  total_price  base_price  \\\n",
       "0          1 2011-01-17      8091  216418      99.0375    111.8625   \n",
       "1          2 2011-01-17      8091  216419      99.0375     99.0375   \n",
       "2          3 2011-01-17      8091  216425     133.9500    133.9500   \n",
       "3          4 2011-01-17      8091  216233     133.9500    133.9500   \n",
       "4          5 2011-01-17      8091  217390     141.0750    141.0750   \n",
       "\n",
       "   is_featured_sku  is_display_sku  units_sold  store_sku  ...  \\\n",
       "0                0               0          20         56  ...   \n",
       "1                0               0          28         57  ...   \n",
       "2                0               0          19         58  ...   \n",
       "3                0               0          44         55  ...   \n",
       "4                0               0          52         59  ...   \n",
       "\n",
       "   relative_diff_base  relative_diff_total  store_encoded  sku_encoded  year  \\\n",
       "0             0.11465             0.129496           8091       216418  2011   \n",
       "1             0.00000             0.000000           8091       216419  2011   \n",
       "2             0.00000             0.000000           8091       216425  2011   \n",
       "3             0.00000             0.000000           8091       216233  2011   \n",
       "4             0.00000             0.000000           8091       217390  2011   \n",
       "\n",
       "   date  month  weekday  weeknum  wom  \n",
       "0    17      1        0        3    3  \n",
       "1    17      1        0        3    3  \n",
       "2    17      1        0        3    3  \n",
       "3    17      1        0        3    3  \n",
       "4    17      1        0        3    3  \n",
       "\n",
       "[5 rows x 21 columns]"
      ]
     },
     "execution_count": 94,
     "metadata": {},
     "output_type": "execute_result"
    }
   ],
   "source": [
    "train.head()"
   ]
  },
  {
   "cell_type": "code",
   "execution_count": 95,
   "metadata": {},
   "outputs": [],
   "source": [
    "cols_to_use=[c for c in test.columns]"
   ]
  },
  {
   "cell_type": "code",
   "execution_count": 96,
   "metadata": {},
   "outputs": [
    {
     "data": {
      "text/plain": [
       "['record_ID',\n",
       " 'week',\n",
       " 'store_id',\n",
       " 'sku_id',\n",
       " 'total_price',\n",
       " 'base_price',\n",
       " 'is_featured_sku',\n",
       " 'is_display_sku',\n",
       " 'store_sku',\n",
       " 'price_diff',\n",
       " 'relative_diff_base',\n",
       " 'relative_diff_total',\n",
       " 'store_encoded',\n",
       " 'sku_encoded',\n",
       " 'year',\n",
       " 'date',\n",
       " 'month',\n",
       " 'weekday',\n",
       " 'weeknum',\n",
       " 'wom']"
      ]
     },
     "execution_count": 96,
     "metadata": {},
     "output_type": "execute_result"
    }
   ],
   "source": [
    "cols_to_use"
   ]
  },
  {
   "cell_type": "code",
   "execution_count": 97,
   "metadata": {},
   "outputs": [],
   "source": [
    "cols_to_use.remove('record_ID')"
   ]
  },
  {
   "cell_type": "code",
   "execution_count": 98,
   "metadata": {},
   "outputs": [],
   "source": [
    "cols_to_use.remove('week')"
   ]
  },
  {
   "cell_type": "code",
   "execution_count": 99,
   "metadata": {},
   "outputs": [],
   "source": [
    "Xtest=test[cols_to_use]"
   ]
  },
  {
   "cell_type": "code",
   "execution_count": 100,
   "metadata": {},
   "outputs": [],
   "source": [
    "X=train[cols_to_use]\n",
    "y=np.log1p(train['units_sold'])"
   ]
  },
  {
   "cell_type": "code",
   "execution_count": 101,
   "metadata": {},
   "outputs": [
    {
     "name": "stdout",
     "output_type": "stream",
     "text": [
      "(120120, 18) (120120,) (30030, 18) (30030,)\n"
     ]
    }
   ],
   "source": [
    "Xtrain, Xval, ytrain, yval = train_test_split(X, y, test_size = 0.2, random_state = 1)\n",
    "print(Xtrain.shape, ytrain.shape, Xval.shape, yval.shape)\n"
   ]
  },
  {
   "cell_type": "code",
   "execution_count": 102,
   "metadata": {
    "scrolled": true
   },
   "outputs": [
    {
     "name": "stdout",
     "output_type": "stream",
     "text": [
      "Training until validation scores don't improve for 100 rounds\n",
      "[100]\tvalid_0's rmse: 0.551034\tvalid_0's l2: 0.303638\n",
      "[200]\tvalid_0's rmse: 0.483271\tvalid_0's l2: 0.23355\n",
      "[300]\tvalid_0's rmse: 0.444728\tvalid_0's l2: 0.197783\n",
      "[400]\tvalid_0's rmse: 0.423585\tvalid_0's l2: 0.179424\n",
      "[500]\tvalid_0's rmse: 0.405893\tvalid_0's l2: 0.164749\n",
      "[600]\tvalid_0's rmse: 0.393942\tvalid_0's l2: 0.15519\n",
      "[700]\tvalid_0's rmse: 0.38536\tvalid_0's l2: 0.148502\n",
      "[800]\tvalid_0's rmse: 0.379042\tvalid_0's l2: 0.143673\n",
      "[900]\tvalid_0's rmse: 0.373449\tvalid_0's l2: 0.139464\n",
      "[1000]\tvalid_0's rmse: 0.368874\tvalid_0's l2: 0.136068\n",
      "[1100]\tvalid_0's rmse: 0.364994\tvalid_0's l2: 0.133221\n",
      "[1200]\tvalid_0's rmse: 0.361568\tvalid_0's l2: 0.130732\n",
      "[1300]\tvalid_0's rmse: 0.358822\tvalid_0's l2: 0.128753\n",
      "[1400]\tvalid_0's rmse: 0.356412\tvalid_0's l2: 0.127029\n",
      "[1500]\tvalid_0's rmse: 0.353849\tvalid_0's l2: 0.125209\n",
      "[1600]\tvalid_0's rmse: 0.351711\tvalid_0's l2: 0.123701\n",
      "[1700]\tvalid_0's rmse: 0.350002\tvalid_0's l2: 0.122502\n",
      "[1800]\tvalid_0's rmse: 0.348513\tvalid_0's l2: 0.121461\n",
      "[1900]\tvalid_0's rmse: 0.347124\tvalid_0's l2: 0.120495\n",
      "[2000]\tvalid_0's rmse: 0.345787\tvalid_0's l2: 0.119568\n",
      "[2100]\tvalid_0's rmse: 0.344777\tvalid_0's l2: 0.118871\n",
      "[2200]\tvalid_0's rmse: 0.34379\tvalid_0's l2: 0.118192\n",
      "[2300]\tvalid_0's rmse: 0.342834\tvalid_0's l2: 0.117535\n",
      "[2400]\tvalid_0's rmse: 0.34195\tvalid_0's l2: 0.11693\n",
      "[2500]\tvalid_0's rmse: 0.341049\tvalid_0's l2: 0.116314\n",
      "[2600]\tvalid_0's rmse: 0.340316\tvalid_0's l2: 0.115815\n",
      "[2700]\tvalid_0's rmse: 0.339647\tvalid_0's l2: 0.11536\n",
      "[2800]\tvalid_0's rmse: 0.339034\tvalid_0's l2: 0.114944\n",
      "[2900]\tvalid_0's rmse: 0.338442\tvalid_0's l2: 0.114543\n",
      "[3000]\tvalid_0's rmse: 0.337814\tvalid_0's l2: 0.114118\n",
      "[3100]\tvalid_0's rmse: 0.337174\tvalid_0's l2: 0.113686\n",
      "[3200]\tvalid_0's rmse: 0.336528\tvalid_0's l2: 0.113251\n",
      "[3300]\tvalid_0's rmse: 0.335878\tvalid_0's l2: 0.112814\n",
      "[3400]\tvalid_0's rmse: 0.335364\tvalid_0's l2: 0.112469\n",
      "[3500]\tvalid_0's rmse: 0.334807\tvalid_0's l2: 0.112096\n",
      "Did not meet early stopping. Best iteration is:\n",
      "[3499]\tvalid_0's rmse: 0.334807\tvalid_0's l2: 0.112095\n"
     ]
    },
    {
     "data": {
      "text/plain": [
       "LGBMRegressor(colsample_bytree=0.4, learning_rate=0.02, max_depth=8,\n",
       "              min_child_samples=4, n_estimators=3500, num_leaves=127,\n",
       "              reg_alpha=0.5, reg_lambda=2)"
      ]
     },
     "execution_count": 102,
     "metadata": {},
     "output_type": "execute_result"
    }
   ],
   "source": [
    "m1= LGBMRegressor(n_estimators=3500, \n",
    "                  num_leaves=127, \n",
    "                  max_depth=8,\n",
    "                  min_child_samples=4,\n",
    "                  learning_rate=0.02,\n",
    "                  colsample_bytree=0.4,\n",
    "                  reg_alpha=0.5,\n",
    "                  reg_lambda=2)\n",
    "m1.fit(Xtrain,ytrain,eval_set=[(Xval, yval)],early_stopping_rounds=100, verbose=100,eval_metric='rmse')\n"
   ]
  },
  {
   "cell_type": "code",
   "execution_count": 103,
   "metadata": {},
   "outputs": [],
   "source": [
    "lgpred1=m1.predict(Xval)"
   ]
  },
  {
   "cell_type": "code",
   "execution_count": 104,
   "metadata": {},
   "outputs": [
    {
     "data": {
      "text/plain": [
       "315.8460363023535"
      ]
     },
     "execution_count": 104,
     "metadata": {},
     "output_type": "execute_result"
    }
   ],
   "source": [
    "RMSLE(np.exp(yval),np.exp(lgpred1))"
   ]
  },
  {
   "cell_type": "code",
   "execution_count": 105,
   "metadata": {},
   "outputs": [],
   "source": [
    "Xtest=test[cols_to_use]"
   ]
  },
  {
   "cell_type": "code",
   "execution_count": 106,
   "metadata": {},
   "outputs": [],
   "source": [
    "final_pred=m1.predict(Xtest)"
   ]
  },
  {
   "cell_type": "code",
   "execution_count": 107,
   "metadata": {},
   "outputs": [],
   "source": [
    "final_pred1=np.expm1(final_pred)"
   ]
  },
  {
   "cell_type": "code",
   "execution_count": 93,
   "metadata": {},
   "outputs": [],
   "source": [
    "submit['units_sold'] = final_pred1\n",
    "submit.to_csv('lgb_time_sku.csv', index = False)\n"
   ]
  },
  {
   "cell_type": "code",
   "execution_count": null,
   "metadata": {},
   "outputs": [],
   "source": []
  }
 ],
 "metadata": {
  "kernelspec": {
   "display_name": "Python 3",
   "language": "python",
   "name": "python3"
  },
  "language_info": {
   "codemirror_mode": {
    "name": "ipython",
    "version": 3
   },
   "file_extension": ".py",
   "mimetype": "text/x-python",
   "name": "python",
   "nbconvert_exporter": "python",
   "pygments_lexer": "ipython3",
   "version": "3.7.6"
  }
 },
 "nbformat": 4,
 "nbformat_minor": 4
}
