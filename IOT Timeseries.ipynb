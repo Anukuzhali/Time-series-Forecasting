{
 "cells": [
  {
   "cell_type": "markdown",
   "metadata": {},
   "source": [
    "**Problem Statement:** \n",
    "\n",
    "You are working with the government to transform your city into a smart city. The vision is to convert it into a digital and intelligent city to improve the efficiency of services for the citizens. One of the problems faced by the government is traffic. You are a data scientist working to manage the traffic of the city better and to provide input on infrastructure planning for the future.\n",
    "\n",
    "The government wants to implement a robust traffic system for the city by being prepared for traffic peaks. They want to understand the traffic patterns of the four junctions of the city.\n",
    "\n",
    "Traffic patterns on holidays, as well as on various other occasions during the year, differ from normal working days. This is important to take into account for your forecasting.\n",
    "\n",
    "**TASK** Predict traffic patterns in each of these four junctions for the next 4 months.\n",
    "\n"
   ]
  },
  {
   "cell_type": "code",
   "execution_count": 28,
   "metadata": {},
   "outputs": [],
   "source": [
    "import numpy as np\n",
    "import pandas as pd\n",
    "import matplotlib.pyplot as plt\n",
    "import seaborn as sns\n",
    "import time\n",
    "pd.set_option('display.max_rows',500)\n",
    "pd.set_option('display.max_columns',100)"
   ]
  },
  {
   "cell_type": "code",
   "execution_count": 29,
   "metadata": {},
   "outputs": [],
   "source": [
    "from xgboost import XGBRegressor,plot_importance"
   ]
  },
  {
   "cell_type": "code",
   "execution_count": 30,
   "metadata": {},
   "outputs": [],
   "source": [
    "train=pd.read_csv('train.csv',parse_dates=['DateTime'])\n",
    "test=pd.read_csv('test.csv',parse_dates=['DateTime'])\n",
    "sub=pd.read_csv('sub.csv')"
   ]
  },
  {
   "cell_type": "code",
   "execution_count": 31,
   "metadata": {},
   "outputs": [
    {
     "data": {
      "text/html": [
       "<div>\n",
       "<style scoped>\n",
       "    .dataframe tbody tr th:only-of-type {\n",
       "        vertical-align: middle;\n",
       "    }\n",
       "\n",
       "    .dataframe tbody tr th {\n",
       "        vertical-align: top;\n",
       "    }\n",
       "\n",
       "    .dataframe thead th {\n",
       "        text-align: right;\n",
       "    }\n",
       "</style>\n",
       "<table border=\"1\" class=\"dataframe\">\n",
       "  <thead>\n",
       "    <tr style=\"text-align: right;\">\n",
       "      <th></th>\n",
       "      <th>DateTime</th>\n",
       "      <th>Junction</th>\n",
       "      <th>Vehicles</th>\n",
       "      <th>ID</th>\n",
       "    </tr>\n",
       "  </thead>\n",
       "  <tbody>\n",
       "    <tr>\n",
       "      <th>0</th>\n",
       "      <td>2015-11-01 00:00:00</td>\n",
       "      <td>1</td>\n",
       "      <td>15</td>\n",
       "      <td>20151101001</td>\n",
       "    </tr>\n",
       "    <tr>\n",
       "      <th>1</th>\n",
       "      <td>2015-11-01 01:00:00</td>\n",
       "      <td>1</td>\n",
       "      <td>13</td>\n",
       "      <td>20151101011</td>\n",
       "    </tr>\n",
       "    <tr>\n",
       "      <th>2</th>\n",
       "      <td>2015-11-01 02:00:00</td>\n",
       "      <td>1</td>\n",
       "      <td>10</td>\n",
       "      <td>20151101021</td>\n",
       "    </tr>\n",
       "    <tr>\n",
       "      <th>3</th>\n",
       "      <td>2015-11-01 03:00:00</td>\n",
       "      <td>1</td>\n",
       "      <td>7</td>\n",
       "      <td>20151101031</td>\n",
       "    </tr>\n",
       "    <tr>\n",
       "      <th>4</th>\n",
       "      <td>2015-11-01 04:00:00</td>\n",
       "      <td>1</td>\n",
       "      <td>9</td>\n",
       "      <td>20151101041</td>\n",
       "    </tr>\n",
       "    <tr>\n",
       "      <th>48115</th>\n",
       "      <td>2017-06-30 19:00:00</td>\n",
       "      <td>4</td>\n",
       "      <td>11</td>\n",
       "      <td>20170630194</td>\n",
       "    </tr>\n",
       "    <tr>\n",
       "      <th>48116</th>\n",
       "      <td>2017-06-30 20:00:00</td>\n",
       "      <td>4</td>\n",
       "      <td>30</td>\n",
       "      <td>20170630204</td>\n",
       "    </tr>\n",
       "    <tr>\n",
       "      <th>48117</th>\n",
       "      <td>2017-06-30 21:00:00</td>\n",
       "      <td>4</td>\n",
       "      <td>16</td>\n",
       "      <td>20170630214</td>\n",
       "    </tr>\n",
       "    <tr>\n",
       "      <th>48118</th>\n",
       "      <td>2017-06-30 22:00:00</td>\n",
       "      <td>4</td>\n",
       "      <td>22</td>\n",
       "      <td>20170630224</td>\n",
       "    </tr>\n",
       "    <tr>\n",
       "      <th>48119</th>\n",
       "      <td>2017-06-30 23:00:00</td>\n",
       "      <td>4</td>\n",
       "      <td>12</td>\n",
       "      <td>20170630234</td>\n",
       "    </tr>\n",
       "  </tbody>\n",
       "</table>\n",
       "</div>"
      ],
      "text/plain": [
       "                 DateTime  Junction  Vehicles           ID\n",
       "0     2015-11-01 00:00:00         1        15  20151101001\n",
       "1     2015-11-01 01:00:00         1        13  20151101011\n",
       "2     2015-11-01 02:00:00         1        10  20151101021\n",
       "3     2015-11-01 03:00:00         1         7  20151101031\n",
       "4     2015-11-01 04:00:00         1         9  20151101041\n",
       "48115 2017-06-30 19:00:00         4        11  20170630194\n",
       "48116 2017-06-30 20:00:00         4        30  20170630204\n",
       "48117 2017-06-30 21:00:00         4        16  20170630214\n",
       "48118 2017-06-30 22:00:00         4        22  20170630224\n",
       "48119 2017-06-30 23:00:00         4        12  20170630234"
      ]
     },
     "execution_count": 31,
     "metadata": {},
     "output_type": "execute_result"
    }
   ],
   "source": [
    "train.head().append(train.tail())"
   ]
  },
  {
   "cell_type": "code",
   "execution_count": 32,
   "metadata": {},
   "outputs": [
    {
     "data": {
      "text/html": [
       "<div>\n",
       "<style scoped>\n",
       "    .dataframe tbody tr th:only-of-type {\n",
       "        vertical-align: middle;\n",
       "    }\n",
       "\n",
       "    .dataframe tbody tr th {\n",
       "        vertical-align: top;\n",
       "    }\n",
       "\n",
       "    .dataframe thead th {\n",
       "        text-align: right;\n",
       "    }\n",
       "</style>\n",
       "<table border=\"1\" class=\"dataframe\">\n",
       "  <thead>\n",
       "    <tr style=\"text-align: right;\">\n",
       "      <th></th>\n",
       "      <th>DateTime</th>\n",
       "      <th>Junction</th>\n",
       "      <th>ID</th>\n",
       "    </tr>\n",
       "  </thead>\n",
       "  <tbody>\n",
       "    <tr>\n",
       "      <th>0</th>\n",
       "      <td>2017-07-01 00:00:00</td>\n",
       "      <td>1</td>\n",
       "      <td>20170701001</td>\n",
       "    </tr>\n",
       "    <tr>\n",
       "      <th>1</th>\n",
       "      <td>2017-07-01 01:00:00</td>\n",
       "      <td>1</td>\n",
       "      <td>20170701011</td>\n",
       "    </tr>\n",
       "    <tr>\n",
       "      <th>2</th>\n",
       "      <td>2017-07-01 02:00:00</td>\n",
       "      <td>1</td>\n",
       "      <td>20170701021</td>\n",
       "    </tr>\n",
       "    <tr>\n",
       "      <th>3</th>\n",
       "      <td>2017-07-01 03:00:00</td>\n",
       "      <td>1</td>\n",
       "      <td>20170701031</td>\n",
       "    </tr>\n",
       "    <tr>\n",
       "      <th>4</th>\n",
       "      <td>2017-07-01 04:00:00</td>\n",
       "      <td>1</td>\n",
       "      <td>20170701041</td>\n",
       "    </tr>\n",
       "    <tr>\n",
       "      <th>11803</th>\n",
       "      <td>2017-10-31 19:00:00</td>\n",
       "      <td>4</td>\n",
       "      <td>20171031194</td>\n",
       "    </tr>\n",
       "    <tr>\n",
       "      <th>11804</th>\n",
       "      <td>2017-10-31 20:00:00</td>\n",
       "      <td>4</td>\n",
       "      <td>20171031204</td>\n",
       "    </tr>\n",
       "    <tr>\n",
       "      <th>11805</th>\n",
       "      <td>2017-10-31 21:00:00</td>\n",
       "      <td>4</td>\n",
       "      <td>20171031214</td>\n",
       "    </tr>\n",
       "    <tr>\n",
       "      <th>11806</th>\n",
       "      <td>2017-10-31 22:00:00</td>\n",
       "      <td>4</td>\n",
       "      <td>20171031224</td>\n",
       "    </tr>\n",
       "    <tr>\n",
       "      <th>11807</th>\n",
       "      <td>2017-10-31 23:00:00</td>\n",
       "      <td>4</td>\n",
       "      <td>20171031234</td>\n",
       "    </tr>\n",
       "  </tbody>\n",
       "</table>\n",
       "</div>"
      ],
      "text/plain": [
       "                 DateTime  Junction           ID\n",
       "0     2017-07-01 00:00:00         1  20170701001\n",
       "1     2017-07-01 01:00:00         1  20170701011\n",
       "2     2017-07-01 02:00:00         1  20170701021\n",
       "3     2017-07-01 03:00:00         1  20170701031\n",
       "4     2017-07-01 04:00:00         1  20170701041\n",
       "11803 2017-10-31 19:00:00         4  20171031194\n",
       "11804 2017-10-31 20:00:00         4  20171031204\n",
       "11805 2017-10-31 21:00:00         4  20171031214\n",
       "11806 2017-10-31 22:00:00         4  20171031224\n",
       "11807 2017-10-31 23:00:00         4  20171031234"
      ]
     },
     "execution_count": 32,
     "metadata": {},
     "output_type": "execute_result"
    }
   ],
   "source": [
    "test.head().append(test.tail())"
   ]
  },
  {
   "cell_type": "markdown",
   "metadata": {},
   "source": [
    "Here, Vehicles which is the vehicle count at a particular hour is the target Feature which we need to predict for the timeperiod (2017-07-01 - 2017-10-01) using Train data from(2015-11-01 - 2017-06-30)\n"
   ]
  },
  {
   "cell_type": "code",
   "execution_count": 33,
   "metadata": {},
   "outputs": [
    {
     "data": {
      "text/plain": [
       "<matplotlib.axes._subplots.AxesSubplot at 0x22269f5d6c8>"
      ]
     },
     "execution_count": 33,
     "metadata": {},
     "output_type": "execute_result"
    },
    {
     "data": {
      "image/png": "[encoded data removed]",
      "text/plain": [
       "<Figure size 1152x288 with 1 Axes>"
      ]
     },
     "metadata": {
      "needs_background": "light"
     },
     "output_type": "display_data"
    }
   ],
   "source": [
    "train.loc[:,['DateTime','Vehicles']].plot(x='DateTime',y='Vehicles',title='Vehicle Trend',figsize=(16,4))"
   ]
  },
  {
   "cell_type": "markdown",
   "metadata": {},
   "source": [
    "By Analysing our data we have found out that 2015 data has very low vehicle trend compared to the timeperiod 2017 which we are going to predict and also 2015 has only data for the month- 11&12 which has different trend compared to the month (7,8,9&10) for which we need to predict.So we decided to ignore 2015 data .\n"
   ]
  },
  {
   "cell_type": "code",
   "execution_count": 34,
   "metadata": {},
   "outputs": [],
   "source": [
    "train=train[train['DateTime']>='2016-01-01']"
   ]
  },
  {
   "cell_type": "code",
   "execution_count": 35,
   "metadata": {},
   "outputs": [],
   "source": [
    "def create_date_features(df):\n",
    "    df['Year']=pd.to_datetime(df['DateTime']).dt.year\n",
    "    df['Month']=pd.to_datetime(df['DateTime']).dt.month\n",
    "    df['Day']=pd.to_datetime(df['DateTime']).dt.day\n",
    "    df['Dayofweek']=pd.to_datetime(df['DateTime']).dt.dayofweek\n",
    "    df['Week']=pd.to_datetime(df['DateTime']).dt.week\n",
    "    df['Quarter']=pd.to_datetime(df['DateTime']).dt.quarter\n",
    "    df['Dayofyear']=pd.to_datetime(df['DateTime']).dt.dayofyear\n",
    "    df['Semester']=np.where(df['Quarter'].isin([1,2]),1,2)\n",
    "    df['is_weekend']=np.where(df['Dayofweek'].isin([5,6]),1,0)\n",
    "    df['Hour']=pd.to_datetime(df['DateTime']).dt.hour\n",
    "    \n",
    "    return df"
   ]
  },
  {
   "cell_type": "code",
   "execution_count": 36,
   "metadata": {},
   "outputs": [
    {
     "name": "stderr",
     "output_type": "stream",
     "text": [
      "C:\\Users\\91999\\anaconda3\\lib\\site-packages\\ipykernel_launcher.py:6: FutureWarning: Series.dt.weekofyear and Series.dt.week have been deprecated.  Please use Series.dt.isocalendar().week instead.\n",
      "  \n"
     ]
    }
   ],
   "source": [
    "train=create_date_features(train)\n",
    "test=create_date_features(test)"
   ]
  },
  {
   "cell_type": "code",
   "execution_count": 37,
   "metadata": {},
   "outputs": [
    {
     "name": "stdout",
     "output_type": "stream",
     "text": [
      "<class 'pandas.core.frame.DataFrame'>\n",
      "Int64Index: 43728 entries, 1464 to 48119\n",
      "Data columns (total 14 columns):\n",
      " #   Column      Non-Null Count  Dtype         \n",
      "---  ------      --------------  -----         \n",
      " 0   DateTime    43728 non-null  datetime64[ns]\n",
      " 1   Junction    43728 non-null  int64         \n",
      " 2   Vehicles    43728 non-null  int64         \n",
      " 3   ID          43728 non-null  int64         \n",
      " 4   Year        43728 non-null  int64         \n",
      " 5   Month       43728 non-null  int64         \n",
      " 6   Day         43728 non-null  int64         \n",
      " 7   Dayofweek   43728 non-null  int64         \n",
      " 8   Week        43728 non-null  int64         \n",
      " 9   Quarter     43728 non-null  int64         \n",
      " 10  Dayofyear   43728 non-null  int64         \n",
      " 11  Semester    43728 non-null  int32         \n",
      " 12  is_weekend  43728 non-null  int32         \n",
      " 13  Hour        43728 non-null  int64         \n",
      "dtypes: datetime64[ns](1), int32(2), int64(11)\n",
      "memory usage: 4.7 MB\n"
     ]
    }
   ],
   "source": [
    "train.info()"
   ]
  },
  {
   "cell_type": "code",
   "execution_count": 38,
   "metadata": {},
   "outputs": [],
   "source": [
    "for col in ['Junction']:\n",
    "    train = pd.get_dummies(train, columns=[col])\n",
    "    test = pd.get_dummies(test, columns=[col])\n"
   ]
  },
  {
   "cell_type": "code",
   "execution_count": 39,
   "metadata": {},
   "outputs": [],
   "source": [
    "# reset index\n",
    "train.reset_index(drop=True, inplace=True)\n"
   ]
  },
  {
   "cell_type": "code",
   "execution_count": 40,
   "metadata": {},
   "outputs": [
    {
     "data": {
      "text/html": [
       "<div>\n",
       "<style scoped>\n",
       "    .dataframe tbody tr th:only-of-type {\n",
       "        vertical-align: middle;\n",
       "    }\n",
       "\n",
       "    .dataframe tbody tr th {\n",
       "        vertical-align: top;\n",
       "    }\n",
       "\n",
       "    .dataframe thead th {\n",
       "        text-align: right;\n",
       "    }\n",
       "</style>\n",
       "<table border=\"1\" class=\"dataframe\">\n",
       "  <thead>\n",
       "    <tr style=\"text-align: right;\">\n",
       "      <th></th>\n",
       "      <th>DateTime</th>\n",
       "      <th>ID</th>\n",
       "      <th>Year</th>\n",
       "      <th>Month</th>\n",
       "      <th>Day</th>\n",
       "      <th>Dayofweek</th>\n",
       "      <th>Week</th>\n",
       "      <th>Quarter</th>\n",
       "      <th>Dayofyear</th>\n",
       "      <th>Semester</th>\n",
       "      <th>is_weekend</th>\n",
       "      <th>Hour</th>\n",
       "      <th>Junction_1</th>\n",
       "      <th>Junction_2</th>\n",
       "      <th>Junction_3</th>\n",
       "      <th>Junction_4</th>\n",
       "    </tr>\n",
       "  </thead>\n",
       "  <tbody>\n",
       "    <tr>\n",
       "      <th>0</th>\n",
       "      <td>2017-07-01 00:00:00</td>\n",
       "      <td>20170701001</td>\n",
       "      <td>2017</td>\n",
       "      <td>7</td>\n",
       "      <td>1</td>\n",
       "      <td>5</td>\n",
       "      <td>26</td>\n",
       "      <td>3</td>\n",
       "      <td>182</td>\n",
       "      <td>2</td>\n",
       "      <td>1</td>\n",
       "      <td>0</td>\n",
       "      <td>1</td>\n",
       "      <td>0</td>\n",
       "      <td>0</td>\n",
       "      <td>0</td>\n",
       "    </tr>\n",
       "    <tr>\n",
       "      <th>1</th>\n",
       "      <td>2017-07-01 01:00:00</td>\n",
       "      <td>20170701011</td>\n",
       "      <td>2017</td>\n",
       "      <td>7</td>\n",
       "      <td>1</td>\n",
       "      <td>5</td>\n",
       "      <td>26</td>\n",
       "      <td>3</td>\n",
       "      <td>182</td>\n",
       "      <td>2</td>\n",
       "      <td>1</td>\n",
       "      <td>1</td>\n",
       "      <td>1</td>\n",
       "      <td>0</td>\n",
       "      <td>0</td>\n",
       "      <td>0</td>\n",
       "    </tr>\n",
       "    <tr>\n",
       "      <th>2</th>\n",
       "      <td>2017-07-01 02:00:00</td>\n",
       "      <td>20170701021</td>\n",
       "      <td>2017</td>\n",
       "      <td>7</td>\n",
       "      <td>1</td>\n",
       "      <td>5</td>\n",
       "      <td>26</td>\n",
       "      <td>3</td>\n",
       "      <td>182</td>\n",
       "      <td>2</td>\n",
       "      <td>1</td>\n",
       "      <td>2</td>\n",
       "      <td>1</td>\n",
       "      <td>0</td>\n",
       "      <td>0</td>\n",
       "      <td>0</td>\n",
       "    </tr>\n",
       "    <tr>\n",
       "      <th>3</th>\n",
       "      <td>2017-07-01 03:00:00</td>\n",
       "      <td>20170701031</td>\n",
       "      <td>2017</td>\n",
       "      <td>7</td>\n",
       "      <td>1</td>\n",
       "      <td>5</td>\n",
       "      <td>26</td>\n",
       "      <td>3</td>\n",
       "      <td>182</td>\n",
       "      <td>2</td>\n",
       "      <td>1</td>\n",
       "      <td>3</td>\n",
       "      <td>1</td>\n",
       "      <td>0</td>\n",
       "      <td>0</td>\n",
       "      <td>0</td>\n",
       "    </tr>\n",
       "    <tr>\n",
       "      <th>4</th>\n",
       "      <td>2017-07-01 04:00:00</td>\n",
       "      <td>20170701041</td>\n",
       "      <td>2017</td>\n",
       "      <td>7</td>\n",
       "      <td>1</td>\n",
       "      <td>5</td>\n",
       "      <td>26</td>\n",
       "      <td>3</td>\n",
       "      <td>182</td>\n",
       "      <td>2</td>\n",
       "      <td>1</td>\n",
       "      <td>4</td>\n",
       "      <td>1</td>\n",
       "      <td>0</td>\n",
       "      <td>0</td>\n",
       "      <td>0</td>\n",
       "    </tr>\n",
       "  </tbody>\n",
       "</table>\n",
       "</div>"
      ],
      "text/plain": [
       "             DateTime           ID  Year  Month  Day  Dayofweek  Week  \\\n",
       "0 2017-07-01 00:00:00  20170701001  2017      7    1          5    26   \n",
       "1 2017-07-01 01:00:00  20170701011  2017      7    1          5    26   \n",
       "2 2017-07-01 02:00:00  20170701021  2017      7    1          5    26   \n",
       "3 2017-07-01 03:00:00  20170701031  2017      7    1          5    26   \n",
       "4 2017-07-01 04:00:00  20170701041  2017      7    1          5    26   \n",
       "\n",
       "   Quarter  Dayofyear  Semester  is_weekend  Hour  Junction_1  Junction_2  \\\n",
       "0        3        182         2           1     0           1           0   \n",
       "1        3        182         2           1     1           1           0   \n",
       "2        3        182         2           1     2           1           0   \n",
       "3        3        182         2           1     3           1           0   \n",
       "4        3        182         2           1     4           1           0   \n",
       "\n",
       "   Junction_3  Junction_4  \n",
       "0           0           0  \n",
       "1           0           0  \n",
       "2           0           0  \n",
       "3           0           0  \n",
       "4           0           0  "
      ]
     },
     "execution_count": 40,
     "metadata": {},
     "output_type": "execute_result"
    }
   ],
   "source": [
    "test.head()"
   ]
  },
  {
   "cell_type": "code",
   "execution_count": 41,
   "metadata": {},
   "outputs": [
    {
     "data": {
      "text/html": [
       "<div>\n",
       "<style scoped>\n",
       "    .dataframe tbody tr th:only-of-type {\n",
       "        vertical-align: middle;\n",
       "    }\n",
       "\n",
       "    .dataframe tbody tr th {\n",
       "        vertical-align: top;\n",
       "    }\n",
       "\n",
       "    .dataframe thead th {\n",
       "        text-align: right;\n",
       "    }\n",
       "</style>\n",
       "<table border=\"1\" class=\"dataframe\">\n",
       "  <thead>\n",
       "    <tr style=\"text-align: right;\">\n",
       "      <th></th>\n",
       "      <th>DateTime</th>\n",
       "      <th>Vehicles</th>\n",
       "      <th>ID</th>\n",
       "      <th>Year</th>\n",
       "      <th>Month</th>\n",
       "      <th>Day</th>\n",
       "      <th>Dayofweek</th>\n",
       "      <th>Week</th>\n",
       "      <th>Quarter</th>\n",
       "      <th>Dayofyear</th>\n",
       "      <th>Semester</th>\n",
       "      <th>is_weekend</th>\n",
       "      <th>Hour</th>\n",
       "      <th>Junction_1</th>\n",
       "      <th>Junction_2</th>\n",
       "      <th>Junction_3</th>\n",
       "      <th>Junction_4</th>\n",
       "    </tr>\n",
       "  </thead>\n",
       "  <tbody>\n",
       "    <tr>\n",
       "      <th>0</th>\n",
       "      <td>2016-01-01 00:00:00</td>\n",
       "      <td>13</td>\n",
       "      <td>20160101001</td>\n",
       "      <td>2016</td>\n",
       "      <td>1</td>\n",
       "      <td>1</td>\n",
       "      <td>4</td>\n",
       "      <td>53</td>\n",
       "      <td>1</td>\n",
       "      <td>1</td>\n",
       "      <td>1</td>\n",
       "      <td>0</td>\n",
       "      <td>0</td>\n",
       "      <td>1</td>\n",
       "      <td>0</td>\n",
       "      <td>0</td>\n",
       "      <td>0</td>\n",
       "    </tr>\n",
       "    <tr>\n",
       "      <th>1</th>\n",
       "      <td>2016-01-01 01:00:00</td>\n",
       "      <td>13</td>\n",
       "      <td>20160101011</td>\n",
       "      <td>2016</td>\n",
       "      <td>1</td>\n",
       "      <td>1</td>\n",
       "      <td>4</td>\n",
       "      <td>53</td>\n",
       "      <td>1</td>\n",
       "      <td>1</td>\n",
       "      <td>1</td>\n",
       "      <td>0</td>\n",
       "      <td>1</td>\n",
       "      <td>1</td>\n",
       "      <td>0</td>\n",
       "      <td>0</td>\n",
       "      <td>0</td>\n",
       "    </tr>\n",
       "    <tr>\n",
       "      <th>2</th>\n",
       "      <td>2016-01-01 02:00:00</td>\n",
       "      <td>11</td>\n",
       "      <td>20160101021</td>\n",
       "      <td>2016</td>\n",
       "      <td>1</td>\n",
       "      <td>1</td>\n",
       "      <td>4</td>\n",
       "      <td>53</td>\n",
       "      <td>1</td>\n",
       "      <td>1</td>\n",
       "      <td>1</td>\n",
       "      <td>0</td>\n",
       "      <td>2</td>\n",
       "      <td>1</td>\n",
       "      <td>0</td>\n",
       "      <td>0</td>\n",
       "      <td>0</td>\n",
       "    </tr>\n",
       "    <tr>\n",
       "      <th>3</th>\n",
       "      <td>2016-01-01 03:00:00</td>\n",
       "      <td>6</td>\n",
       "      <td>20160101031</td>\n",
       "      <td>2016</td>\n",
       "      <td>1</td>\n",
       "      <td>1</td>\n",
       "      <td>4</td>\n",
       "      <td>53</td>\n",
       "      <td>1</td>\n",
       "      <td>1</td>\n",
       "      <td>1</td>\n",
       "      <td>0</td>\n",
       "      <td>3</td>\n",
       "      <td>1</td>\n",
       "      <td>0</td>\n",
       "      <td>0</td>\n",
       "      <td>0</td>\n",
       "    </tr>\n",
       "    <tr>\n",
       "      <th>4</th>\n",
       "      <td>2016-01-01 04:00:00</td>\n",
       "      <td>8</td>\n",
       "      <td>20160101041</td>\n",
       "      <td>2016</td>\n",
       "      <td>1</td>\n",
       "      <td>1</td>\n",
       "      <td>4</td>\n",
       "      <td>53</td>\n",
       "      <td>1</td>\n",
       "      <td>1</td>\n",
       "      <td>1</td>\n",
       "      <td>0</td>\n",
       "      <td>4</td>\n",
       "      <td>1</td>\n",
       "      <td>0</td>\n",
       "      <td>0</td>\n",
       "      <td>0</td>\n",
       "    </tr>\n",
       "  </tbody>\n",
       "</table>\n",
       "</div>"
      ],
      "text/plain": [
       "             DateTime  Vehicles           ID  Year  Month  Day  Dayofweek  \\\n",
       "0 2016-01-01 00:00:00        13  20160101001  2016      1    1          4   \n",
       "1 2016-01-01 01:00:00        13  20160101011  2016      1    1          4   \n",
       "2 2016-01-01 02:00:00        11  20160101021  2016      1    1          4   \n",
       "3 2016-01-01 03:00:00         6  20160101031  2016      1    1          4   \n",
       "4 2016-01-01 04:00:00         8  20160101041  2016      1    1          4   \n",
       "\n",
       "   Week  Quarter  Dayofyear  Semester  is_weekend  Hour  Junction_1  \\\n",
       "0    53        1          1         1           0     0           1   \n",
       "1    53        1          1         1           0     1           1   \n",
       "2    53        1          1         1           0     2           1   \n",
       "3    53        1          1         1           0     3           1   \n",
       "4    53        1          1         1           0     4           1   \n",
       "\n",
       "   Junction_2  Junction_3  Junction_4  \n",
       "0           0           0           0  \n",
       "1           0           0           0  \n",
       "2           0           0           0  \n",
       "3           0           0           0  \n",
       "4           0           0           0  "
      ]
     },
     "execution_count": 41,
     "metadata": {},
     "output_type": "execute_result"
    }
   ],
   "source": [
    "train.head()"
   ]
  },
  {
   "cell_type": "code",
   "execution_count": 42,
   "metadata": {},
   "outputs": [
    {
     "data": {
      "text/plain": [
       "735964"
      ]
     },
     "execution_count": 42,
     "metadata": {},
     "output_type": "execute_result"
    }
   ],
   "source": [
    "train['DateTime'][0].toordinal()"
   ]
  },
  {
   "cell_type": "code",
   "execution_count": 43,
   "metadata": {},
   "outputs": [
    {
     "name": "stderr",
     "output_type": "stream",
     "text": [
      "C:\\Users\\91999\\anaconda3\\lib\\site-packages\\seaborn\\distributions.py:2619: FutureWarning: `distplot` is a deprecated function and will be removed in a future version. Please adapt your code to use either `displot` (a figure-level function with similar flexibility) or `histplot` (an axes-level function for histograms).\n",
      "  warnings.warn(msg, FutureWarning)\n"
     ]
    },
    {
     "data": {
      "text/plain": [
       "<matplotlib.axes._subplots.AxesSubplot at 0x2226d266ac8>"
      ]
     },
     "execution_count": 43,
     "metadata": {},
     "output_type": "execute_result"
    },
    {
     "data": {
      "image/png": "[encoded data removed]",
      "text/plain": [
       "<Figure size 432x288 with 1 Axes>"
      ]
     },
     "metadata": {
      "needs_background": "light"
     },
     "output_type": "display_data"
    }
   ],
   "source": [
    "sns.distplot(train['Vehicles'])"
   ]
  },
  {
   "cell_type": "markdown",
   "metadata": {},
   "source": [
    "Log transforming Vehicle to have normal distribution"
   ]
  },
  {
   "cell_type": "code",
   "execution_count": 44,
   "metadata": {},
   "outputs": [
    {
     "name": "stderr",
     "output_type": "stream",
     "text": [
      "C:\\Users\\91999\\anaconda3\\lib\\site-packages\\seaborn\\distributions.py:2619: FutureWarning: `distplot` is a deprecated function and will be removed in a future version. Please adapt your code to use either `displot` (a figure-level function with similar flexibility) or `histplot` (an axes-level function for histograms).\n",
      "  warnings.warn(msg, FutureWarning)\n"
     ]
    },
    {
     "data": {
      "text/plain": [
       "<matplotlib.axes._subplots.AxesSubplot at 0x22269da9948>"
      ]
     },
     "execution_count": 44,
     "metadata": {},
     "output_type": "execute_result"
    },
    {
     "data": {
      "image/png": "[encoded data removed]",
      "text/plain": [
       "<Figure size 432x288 with 1 Axes>"
      ]
     },
     "metadata": {
      "needs_background": "light"
     },
     "output_type": "display_data"
    }
   ],
   "source": [
    "sns.distplot(np.log1p(train['Vehicles']))"
   ]
  },
  {
   "cell_type": "code",
   "execution_count": 45,
   "metadata": {},
   "outputs": [],
   "source": [
    "train['Vehicles']=np.log1p(train['Vehicles'])"
   ]
  },
  {
   "cell_type": "markdown",
   "metadata": {},
   "source": [
    "Timeseries problems requires time based validation instead of generaly used kfold validation in regression problem. Kfold splits the data randomly and checking the model accuracy by predicting on timeperiod 2016 by using 2017 data makes no sense.\n",
    "Here we used time based validation for the time period (2017-01-01 to 2017-04-01) of 4 months, since the test set contains 4 months data to predict."
   ]
  },
  {
   "cell_type": "code",
   "execution_count": 46,
   "metadata": {},
   "outputs": [],
   "source": [
    "train1=train[train['DateTime']<'2017-03-01'] #Train period from 2016-01-01 to 2017-02-31\n",
    "val1=train[train['DateTime']>='2017-03-01'] #Month 3,4,5,6 as validtaion period\n"
   ]
  },
  {
   "cell_type": "code",
   "execution_count": 47,
   "metadata": {},
   "outputs": [],
   "source": [
    "def datetounix(df):\n",
    "    unixtime=[]\n",
    "    #Running a loop for converting Date to seconds\n",
    "    for date in df['DateTime']:\n",
    "        unixtime.append(time.mktime(date.timetuple()))\n",
    "    #Replacing date with unixtime list\n",
    "    df['DateTime']=unixtime\n",
    "    return(df)"
   ]
  },
  {
   "cell_type": "code",
   "execution_count": 48,
   "metadata": {},
   "outputs": [
    {
     "name": "stderr",
     "output_type": "stream",
     "text": [
      "C:\\Users\\91999\\anaconda3\\lib\\site-packages\\ipykernel_launcher.py:7: SettingWithCopyWarning: \n",
      "A value is trying to be set on a copy of a slice from a DataFrame.\n",
      "Try using .loc[row_indexer,col_indexer] = value instead\n",
      "\n",
      "See the caveats in the documentation: https://pandas.pydata.org/pandas-docs/stable/user_guide/indexing.html#returning-a-view-versus-a-copy\n",
      "  import sys\n"
     ]
    }
   ],
   "source": [
    "train1=datetounix(train1)\n",
    "val1=datetounix(val1)\n",
    "\n",
    "train=datetounix(train)\n",
    "test=datetounix(test)\n"
   ]
  },
  {
   "cell_type": "code",
   "execution_count": 49,
   "metadata": {},
   "outputs": [],
   "source": [
    "x_train1=train1.drop(columns={'ID','Vehicles'},axis=1)\n",
    "y_train1=train1.loc[:,['Vehicles']]\n",
    "\n",
    "x_val1=val1.drop(columns={'ID','Vehicles'},axis=1)\n",
    "y_val1=val1.loc[:,['Vehicles']]\n"
   ]
  },
  {
   "cell_type": "code",
   "execution_count": 50,
   "metadata": {},
   "outputs": [
    {
     "name": "stdout",
     "output_type": "stream",
     "text": [
      "[15:46:31] WARNING: C:/Users/Administrator/workspace/xgboost-win64_release_1.4.0/src/objective/regression_obj.cu:171: reg:linear is now deprecated in favor of reg:squarederror.\n",
      "[0]\tvalidation_0-rmse:1.75077\tvalidation_1-rmse:1.93087\n",
      "[1]\tvalidation_0-rmse:1.24564\tvalidation_1-rmse:1.42354\n",
      "[2]\tvalidation_0-rmse:0.89510\tvalidation_1-rmse:1.05687\n",
      "[3]\tvalidation_0-rmse:0.66521\tvalidation_1-rmse:0.79771\n",
      "[4]\tvalidation_0-rmse:0.50345\tvalidation_1-rmse:0.60896\n",
      "[5]\tvalidation_0-rmse:0.39986\tvalidation_1-rmse:0.48916\n",
      "[6]\tvalidation_0-rmse:0.33466\tvalidation_1-rmse:0.39929\n",
      "[7]\tvalidation_0-rmse:0.29582\tvalidation_1-rmse:0.36346\n",
      "[8]\tvalidation_0-rmse:0.27181\tvalidation_1-rmse:0.33120\n",
      "[9]\tvalidation_0-rmse:0.25906\tvalidation_1-rmse:0.31978\n",
      "[10]\tvalidation_0-rmse:0.24884\tvalidation_1-rmse:0.31014\n",
      "[11]\tvalidation_0-rmse:0.24421\tvalidation_1-rmse:0.30608\n",
      "[12]\tvalidation_0-rmse:0.24122\tvalidation_1-rmse:0.30787\n",
      "[13]\tvalidation_0-rmse:0.23867\tvalidation_1-rmse:0.31258\n",
      "[14]\tvalidation_0-rmse:0.23706\tvalidation_1-rmse:0.31169\n",
      "[15]\tvalidation_0-rmse:0.23575\tvalidation_1-rmse:0.31166\n",
      "[16]\tvalidation_0-rmse:0.23348\tvalidation_1-rmse:0.31068\n",
      "[17]\tvalidation_0-rmse:0.23061\tvalidation_1-rmse:0.31133\n",
      "[18]\tvalidation_0-rmse:0.22976\tvalidation_1-rmse:0.30690\n",
      "[19]\tvalidation_0-rmse:0.22846\tvalidation_1-rmse:0.30780\n",
      "[20]\tvalidation_0-rmse:0.22693\tvalidation_1-rmse:0.30729\n",
      "[21]\tvalidation_0-rmse:0.22551\tvalidation_1-rmse:0.30876\n",
      "[22]\tvalidation_0-rmse:0.22359\tvalidation_1-rmse:0.30841\n",
      "[23]\tvalidation_0-rmse:0.22261\tvalidation_1-rmse:0.30347\n",
      "[24]\tvalidation_0-rmse:0.22220\tvalidation_1-rmse:0.30085\n",
      "[25]\tvalidation_0-rmse:0.22106\tvalidation_1-rmse:0.30371\n",
      "[26]\tvalidation_0-rmse:0.22086\tvalidation_1-rmse:0.30078\n",
      "[27]\tvalidation_0-rmse:0.22012\tvalidation_1-rmse:0.30061\n",
      "[28]\tvalidation_0-rmse:0.21926\tvalidation_1-rmse:0.30139\n",
      "[29]\tvalidation_0-rmse:0.21881\tvalidation_1-rmse:0.30041\n",
      "[30]\tvalidation_0-rmse:0.21825\tvalidation_1-rmse:0.29980\n",
      "[31]\tvalidation_0-rmse:0.21758\tvalidation_1-rmse:0.29938\n",
      "[32]\tvalidation_0-rmse:0.21723\tvalidation_1-rmse:0.29916\n",
      "[33]\tvalidation_0-rmse:0.21713\tvalidation_1-rmse:0.30055\n",
      "[34]\tvalidation_0-rmse:0.21657\tvalidation_1-rmse:0.30113\n",
      "[35]\tvalidation_0-rmse:0.21594\tvalidation_1-rmse:0.29917\n",
      "[36]\tvalidation_0-rmse:0.21477\tvalidation_1-rmse:0.29886\n",
      "[37]\tvalidation_0-rmse:0.21427\tvalidation_1-rmse:0.30008\n",
      "[38]\tvalidation_0-rmse:0.21347\tvalidation_1-rmse:0.29965\n",
      "[39]\tvalidation_0-rmse:0.21313\tvalidation_1-rmse:0.29959\n",
      "[40]\tvalidation_0-rmse:0.21177\tvalidation_1-rmse:0.30018\n",
      "[41]\tvalidation_0-rmse:0.21142\tvalidation_1-rmse:0.29883\n",
      "[42]\tvalidation_0-rmse:0.21106\tvalidation_1-rmse:0.30015\n",
      "[43]\tvalidation_0-rmse:0.21033\tvalidation_1-rmse:0.29832\n",
      "[44]\tvalidation_0-rmse:0.20983\tvalidation_1-rmse:0.29840\n",
      "[45]\tvalidation_0-rmse:0.20949\tvalidation_1-rmse:0.29800\n",
      "[46]\tvalidation_0-rmse:0.20919\tvalidation_1-rmse:0.29775\n",
      "[47]\tvalidation_0-rmse:0.20893\tvalidation_1-rmse:0.29717\n",
      "[48]\tvalidation_0-rmse:0.20851\tvalidation_1-rmse:0.29723\n",
      "[49]\tvalidation_0-rmse:0.20822\tvalidation_1-rmse:0.29852\n",
      "[50]\tvalidation_0-rmse:0.20811\tvalidation_1-rmse:0.29844\n",
      "[51]\tvalidation_0-rmse:0.20741\tvalidation_1-rmse:0.29717\n",
      "[52]\tvalidation_0-rmse:0.20725\tvalidation_1-rmse:0.29896\n",
      "[53]\tvalidation_0-rmse:0.20643\tvalidation_1-rmse:0.29976\n",
      "[54]\tvalidation_0-rmse:0.20632\tvalidation_1-rmse:0.30137\n",
      "[55]\tvalidation_0-rmse:0.20606\tvalidation_1-rmse:0.30033\n",
      "[56]\tvalidation_0-rmse:0.20566\tvalidation_1-rmse:0.30010\n",
      "[57]\tvalidation_0-rmse:0.20538\tvalidation_1-rmse:0.29941\n",
      "[58]\tvalidation_0-rmse:0.20516\tvalidation_1-rmse:0.29950\n",
      "[59]\tvalidation_0-rmse:0.20500\tvalidation_1-rmse:0.30050\n",
      "[60]\tvalidation_0-rmse:0.20424\tvalidation_1-rmse:0.30483\n",
      "[61]\tvalidation_0-rmse:0.20415\tvalidation_1-rmse:0.30531\n",
      "[62]\tvalidation_0-rmse:0.20391\tvalidation_1-rmse:0.30395\n",
      "[63]\tvalidation_0-rmse:0.20383\tvalidation_1-rmse:0.30294\n",
      "[64]\tvalidation_0-rmse:0.20293\tvalidation_1-rmse:0.30350\n",
      "[65]\tvalidation_0-rmse:0.20274\tvalidation_1-rmse:0.30345\n",
      "[66]\tvalidation_0-rmse:0.20246\tvalidation_1-rmse:0.30370\n",
      "[67]\tvalidation_0-rmse:0.20224\tvalidation_1-rmse:0.30272\n",
      "[68]\tvalidation_0-rmse:0.20211\tvalidation_1-rmse:0.30241\n",
      "[69]\tvalidation_0-rmse:0.20194\tvalidation_1-rmse:0.30299\n",
      "[70]\tvalidation_0-rmse:0.20154\tvalidation_1-rmse:0.30322\n",
      "[71]\tvalidation_0-rmse:0.20150\tvalidation_1-rmse:0.30258\n",
      "[72]\tvalidation_0-rmse:0.20115\tvalidation_1-rmse:0.30223\n",
      "[73]\tvalidation_0-rmse:0.20072\tvalidation_1-rmse:0.30113\n",
      "[74]\tvalidation_0-rmse:0.20057\tvalidation_1-rmse:0.30212\n",
      "[75]\tvalidation_0-rmse:0.20018\tvalidation_1-rmse:0.30172\n",
      "[76]\tvalidation_0-rmse:0.20008\tvalidation_1-rmse:0.30175\n",
      "[77]\tvalidation_0-rmse:0.19977\tvalidation_1-rmse:0.30171\n",
      "[78]\tvalidation_0-rmse:0.19951\tvalidation_1-rmse:0.30168\n",
      "[79]\tvalidation_0-rmse:0.19933\tvalidation_1-rmse:0.30170\n",
      "[80]\tvalidation_0-rmse:0.19870\tvalidation_1-rmse:0.30304\n",
      "[81]\tvalidation_0-rmse:0.19827\tvalidation_1-rmse:0.30243\n",
      "[82]\tvalidation_0-rmse:0.19814\tvalidation_1-rmse:0.30324\n",
      "[83]\tvalidation_0-rmse:0.19780\tvalidation_1-rmse:0.30275\n",
      "[84]\tvalidation_0-rmse:0.19770\tvalidation_1-rmse:0.30182\n",
      "[85]\tvalidation_0-rmse:0.19751\tvalidation_1-rmse:0.30160\n",
      "[86]\tvalidation_0-rmse:0.19733\tvalidation_1-rmse:0.30203\n",
      "[87]\tvalidation_0-rmse:0.19711\tvalidation_1-rmse:0.30195\n",
      "[88]\tvalidation_0-rmse:0.19697\tvalidation_1-rmse:0.30169\n",
      "[89]\tvalidation_0-rmse:0.19662\tvalidation_1-rmse:0.30160\n",
      "[90]\tvalidation_0-rmse:0.19654\tvalidation_1-rmse:0.30174\n",
      "[91]\tvalidation_0-rmse:0.19639\tvalidation_1-rmse:0.30180\n",
      "[92]\tvalidation_0-rmse:0.19617\tvalidation_1-rmse:0.30183\n",
      "[93]\tvalidation_0-rmse:0.19593\tvalidation_1-rmse:0.30198\n",
      "[94]\tvalidation_0-rmse:0.19559\tvalidation_1-rmse:0.30241\n",
      "[95]\tvalidation_0-rmse:0.19524\tvalidation_1-rmse:0.30425\n",
      "[96]\tvalidation_0-rmse:0.19490\tvalidation_1-rmse:0.30532\n",
      "[97]\tvalidation_0-rmse:0.19461\tvalidation_1-rmse:0.30578\n",
      "[98]\tvalidation_0-rmse:0.19450\tvalidation_1-rmse:0.30578\n",
      "[99]\tvalidation_0-rmse:0.19442\tvalidation_1-rmse:0.30555\n",
      "[100]\tvalidation_0-rmse:0.19430\tvalidation_1-rmse:0.30555\n",
      "[101]\tvalidation_0-rmse:0.19423\tvalidation_1-rmse:0.30559\n",
      "[102]\tvalidation_0-rmse:0.19415\tvalidation_1-rmse:0.30499\n",
      "[103]\tvalidation_0-rmse:0.19397\tvalidation_1-rmse:0.30405\n",
      "[104]\tvalidation_0-rmse:0.19391\tvalidation_1-rmse:0.30413\n",
      "[105]\tvalidation_0-rmse:0.19351\tvalidation_1-rmse:0.30453\n",
      "[106]\tvalidation_0-rmse:0.19337\tvalidation_1-rmse:0.30393\n",
      "[107]\tvalidation_0-rmse:0.19310\tvalidation_1-rmse:0.30371\n",
      "[108]\tvalidation_0-rmse:0.19306\tvalidation_1-rmse:0.30368\n",
      "[109]\tvalidation_0-rmse:0.19278\tvalidation_1-rmse:0.30351\n",
      "[110]\tvalidation_0-rmse:0.19259\tvalidation_1-rmse:0.30357\n",
      "[111]\tvalidation_0-rmse:0.19253\tvalidation_1-rmse:0.30291\n",
      "[112]\tvalidation_0-rmse:0.19246\tvalidation_1-rmse:0.30343\n",
      "[113]\tvalidation_0-rmse:0.19236\tvalidation_1-rmse:0.30432\n",
      "[114]\tvalidation_0-rmse:0.19227\tvalidation_1-rmse:0.30523\n",
      "[115]\tvalidation_0-rmse:0.19210\tvalidation_1-rmse:0.30548\n",
      "[116]\tvalidation_0-rmse:0.19208\tvalidation_1-rmse:0.30614\n",
      "[117]\tvalidation_0-rmse:0.19195\tvalidation_1-rmse:0.30613\n",
      "[118]\tvalidation_0-rmse:0.19189\tvalidation_1-rmse:0.30523\n",
      "[119]\tvalidation_0-rmse:0.19176\tvalidation_1-rmse:0.30572\n",
      "[120]\tvalidation_0-rmse:0.19163\tvalidation_1-rmse:0.30544\n",
      "[121]\tvalidation_0-rmse:0.19158\tvalidation_1-rmse:0.30488\n",
      "[122]\tvalidation_0-rmse:0.19140\tvalidation_1-rmse:0.30536\n",
      "[123]\tvalidation_0-rmse:0.19136\tvalidation_1-rmse:0.30551\n",
      "[124]\tvalidation_0-rmse:0.19126\tvalidation_1-rmse:0.30561\n",
      "[125]\tvalidation_0-rmse:0.19120\tvalidation_1-rmse:0.30601\n",
      "[126]\tvalidation_0-rmse:0.19112\tvalidation_1-rmse:0.30634\n",
      "[127]\tvalidation_0-rmse:0.19092\tvalidation_1-rmse:0.30621\n",
      "[128]\tvalidation_0-rmse:0.19077\tvalidation_1-rmse:0.30662\n",
      "[129]\tvalidation_0-rmse:0.19074\tvalidation_1-rmse:0.30748\n",
      "[130]\tvalidation_0-rmse:0.19065\tvalidation_1-rmse:0.30638\n",
      "[131]\tvalidation_0-rmse:0.19045\tvalidation_1-rmse:0.30576\n",
      "[132]\tvalidation_0-rmse:0.19041\tvalidation_1-rmse:0.30583\n",
      "[133]\tvalidation_0-rmse:0.19036\tvalidation_1-rmse:0.30675\n",
      "[134]\tvalidation_0-rmse:0.19029\tvalidation_1-rmse:0.30720\n",
      "[135]\tvalidation_0-rmse:0.19025\tvalidation_1-rmse:0.30655\n",
      "[136]\tvalidation_0-rmse:0.19008\tvalidation_1-rmse:0.30632\n",
      "[137]\tvalidation_0-rmse:0.19002\tvalidation_1-rmse:0.30659\n",
      "[138]\tvalidation_0-rmse:0.18999\tvalidation_1-rmse:0.30569\n",
      "[139]\tvalidation_0-rmse:0.18974\tvalidation_1-rmse:0.30494\n",
      "[140]\tvalidation_0-rmse:0.18967\tvalidation_1-rmse:0.30501\n",
      "[141]\tvalidation_0-rmse:0.18957\tvalidation_1-rmse:0.30508\n",
      "[142]\tvalidation_0-rmse:0.18955\tvalidation_1-rmse:0.30591\n",
      "[143]\tvalidation_0-rmse:0.18949\tvalidation_1-rmse:0.30625\n",
      "[144]\tvalidation_0-rmse:0.18939\tvalidation_1-rmse:0.30618\n",
      "[145]\tvalidation_0-rmse:0.18934\tvalidation_1-rmse:0.30651\n",
      "[146]\tvalidation_0-rmse:0.18928\tvalidation_1-rmse:0.30570\n",
      "[147]\tvalidation_0-rmse:0.18910\tvalidation_1-rmse:0.30638\n"
     ]
    },
    {
     "data": {
      "text/plain": [
       "2.1108968257904053"
      ]
     },
     "execution_count": 50,
     "metadata": {},
     "output_type": "execute_result"
    }
   ],
   "source": [
    "ts = time.time()\n",
    "\n",
    "model = XGBRegressor(\n",
    "    max_depth=8,\n",
    "    booster = \"gbtree\",\n",
    "    n_estimators=100000,\n",
    "    min_child_weight=300, \n",
    "    colsample_bytree=0.8, \n",
    "    subsample=0.8, \n",
    "    eta=0.3,\n",
    "    seed=42,\n",
    "    objective='reg:linear')\n",
    "\n",
    "model.fit(\n",
    "    x_train1, \n",
    "    y_train1, \n",
    "    eval_metric=\"rmse\", \n",
    "    eval_set=[(x_train1, y_train1), (x_val1, y_val1)], \n",
    "    verbose=True, \n",
    "    early_stopping_rounds = 100)\n",
    "\n",
    "time.time() - ts\n"
   ]
  },
  {
   "cell_type": "code",
   "execution_count": 51,
   "metadata": {},
   "outputs": [],
   "source": [
    "pred=model.predict(x_val1)\n"
   ]
  },
  {
   "cell_type": "code",
   "execution_count": 52,
   "metadata": {},
   "outputs": [
    {
     "data": {
      "text/plain": [
       "7.338551181294541"
      ]
     },
     "execution_count": 52,
     "metadata": {},
     "output_type": "execute_result"
    }
   ],
   "source": [
    "from sklearn.metrics import mean_squared_error\n",
    "from math import sqrt\n",
    "np.sqrt(mean_squared_error(np.expm1(y_val1), np.expm1(pred)))"
   ]
  },
  {
   "cell_type": "code",
   "execution_count": 53,
   "metadata": {},
   "outputs": [],
   "source": [
    "# Function to plot feature importance\n",
    "def plot_features(booster, figsize):    \n",
    "    fig, ax = plt.subplots(1,1,figsize=figsize)\n",
    "    return plot_importance(booster=booster, ax=ax)\n"
   ]
  },
  {
   "cell_type": "code",
   "execution_count": 54,
   "metadata": {},
   "outputs": [
    {
     "data": {
      "text/plain": [
       "<matplotlib.axes._subplots.AxesSubplot at 0x2226d700c48>"
      ]
     },
     "execution_count": 54,
     "metadata": {},
     "output_type": "execute_result"
    },
    {
     "data": {
      "image/png": "[encoded data removed]",
      "text/plain": [
       "<Figure size 720x1008 with 1 Axes>"
      ]
     },
     "metadata": {
      "needs_background": "light"
     },
     "output_type": "display_data"
    }
   ],
   "source": [
    "plot_features(model, (10,14))"
   ]
  },
  {
   "cell_type": "code",
   "execution_count": 59,
   "metadata": {},
   "outputs": [
    {
     "data": {
      "text/html": [
       "<div>\n",
       "<style scoped>\n",
       "    .dataframe tbody tr th:only-of-type {\n",
       "        vertical-align: middle;\n",
       "    }\n",
       "\n",
       "    .dataframe tbody tr th {\n",
       "        vertical-align: top;\n",
       "    }\n",
       "\n",
       "    .dataframe thead th {\n",
       "        text-align: right;\n",
       "    }\n",
       "</style>\n",
       "<table border=\"1\" class=\"dataframe\">\n",
       "  <thead>\n",
       "    <tr style=\"text-align: right;\">\n",
       "      <th></th>\n",
       "      <th>DateTime</th>\n",
       "      <th>Year</th>\n",
       "      <th>Month</th>\n",
       "      <th>Day</th>\n",
       "      <th>Dayofweek</th>\n",
       "      <th>Week</th>\n",
       "      <th>Quarter</th>\n",
       "      <th>Dayofyear</th>\n",
       "      <th>Semester</th>\n",
       "      <th>is_weekend</th>\n",
       "      <th>Hour</th>\n",
       "      <th>Junction_1</th>\n",
       "      <th>Junction_2</th>\n",
       "      <th>Junction_3</th>\n",
       "      <th>Junction_4</th>\n",
       "    </tr>\n",
       "  </thead>\n",
       "  <tbody>\n",
       "    <tr>\n",
       "      <th>10200</th>\n",
       "      <td>1.488307e+09</td>\n",
       "      <td>2017</td>\n",
       "      <td>3</td>\n",
       "      <td>1</td>\n",
       "      <td>2</td>\n",
       "      <td>9</td>\n",
       "      <td>1</td>\n",
       "      <td>60</td>\n",
       "      <td>1</td>\n",
       "      <td>0</td>\n",
       "      <td>0</td>\n",
       "      <td>1</td>\n",
       "      <td>0</td>\n",
       "      <td>0</td>\n",
       "      <td>0</td>\n",
       "    </tr>\n",
       "    <tr>\n",
       "      <th>10201</th>\n",
       "      <td>1.488310e+09</td>\n",
       "      <td>2017</td>\n",
       "      <td>3</td>\n",
       "      <td>1</td>\n",
       "      <td>2</td>\n",
       "      <td>9</td>\n",
       "      <td>1</td>\n",
       "      <td>60</td>\n",
       "      <td>1</td>\n",
       "      <td>0</td>\n",
       "      <td>1</td>\n",
       "      <td>1</td>\n",
       "      <td>0</td>\n",
       "      <td>0</td>\n",
       "      <td>0</td>\n",
       "    </tr>\n",
       "    <tr>\n",
       "      <th>10202</th>\n",
       "      <td>1.488314e+09</td>\n",
       "      <td>2017</td>\n",
       "      <td>3</td>\n",
       "      <td>1</td>\n",
       "      <td>2</td>\n",
       "      <td>9</td>\n",
       "      <td>1</td>\n",
       "      <td>60</td>\n",
       "      <td>1</td>\n",
       "      <td>0</td>\n",
       "      <td>2</td>\n",
       "      <td>1</td>\n",
       "      <td>0</td>\n",
       "      <td>0</td>\n",
       "      <td>0</td>\n",
       "    </tr>\n",
       "    <tr>\n",
       "      <th>10203</th>\n",
       "      <td>1.488317e+09</td>\n",
       "      <td>2017</td>\n",
       "      <td>3</td>\n",
       "      <td>1</td>\n",
       "      <td>2</td>\n",
       "      <td>9</td>\n",
       "      <td>1</td>\n",
       "      <td>60</td>\n",
       "      <td>1</td>\n",
       "      <td>0</td>\n",
       "      <td>3</td>\n",
       "      <td>1</td>\n",
       "      <td>0</td>\n",
       "      <td>0</td>\n",
       "      <td>0</td>\n",
       "    </tr>\n",
       "    <tr>\n",
       "      <th>10204</th>\n",
       "      <td>1.488321e+09</td>\n",
       "      <td>2017</td>\n",
       "      <td>3</td>\n",
       "      <td>1</td>\n",
       "      <td>2</td>\n",
       "      <td>9</td>\n",
       "      <td>1</td>\n",
       "      <td>60</td>\n",
       "      <td>1</td>\n",
       "      <td>0</td>\n",
       "      <td>4</td>\n",
       "      <td>1</td>\n",
       "      <td>0</td>\n",
       "      <td>0</td>\n",
       "      <td>0</td>\n",
       "    </tr>\n",
       "  </tbody>\n",
       "</table>\n",
       "</div>"
      ],
      "text/plain": [
       "           DateTime  Year  Month  Day  Dayofweek  Week  Quarter  Dayofyear  \\\n",
       "10200  1.488307e+09  2017      3    1          2     9        1         60   \n",
       "10201  1.488310e+09  2017      3    1          2     9        1         60   \n",
       "10202  1.488314e+09  2017      3    1          2     9        1         60   \n",
       "10203  1.488317e+09  2017      3    1          2     9        1         60   \n",
       "10204  1.488321e+09  2017      3    1          2     9        1         60   \n",
       "\n",
       "       Semester  is_weekend  Hour  Junction_1  Junction_2  Junction_3  \\\n",
       "10200         1           0     0           1           0           0   \n",
       "10201         1           0     1           1           0           0   \n",
       "10202         1           0     2           1           0           0   \n",
       "10203         1           0     3           1           0           0   \n",
       "10204         1           0     4           1           0           0   \n",
       "\n",
       "       Junction_4  \n",
       "10200           0  \n",
       "10201           0  \n",
       "10202           0  \n",
       "10203           0  \n",
       "10204           0  "
      ]
     },
     "execution_count": 59,
     "metadata": {},
     "output_type": "execute_result"
    }
   ],
   "source": [
    "x_val1.head()"
   ]
  },
  {
   "cell_type": "code",
   "execution_count": 60,
   "metadata": {},
   "outputs": [
    {
     "data": {
      "text/html": [
       "<div>\n",
       "<style scoped>\n",
       "    .dataframe tbody tr th:only-of-type {\n",
       "        vertical-align: middle;\n",
       "    }\n",
       "\n",
       "    .dataframe tbody tr th {\n",
       "        vertical-align: top;\n",
       "    }\n",
       "\n",
       "    .dataframe thead th {\n",
       "        text-align: right;\n",
       "    }\n",
       "</style>\n",
       "<table border=\"1\" class=\"dataframe\">\n",
       "  <thead>\n",
       "    <tr style=\"text-align: right;\">\n",
       "      <th></th>\n",
       "      <th>DateTime</th>\n",
       "      <th>ID</th>\n",
       "      <th>Year</th>\n",
       "      <th>Month</th>\n",
       "      <th>Day</th>\n",
       "      <th>Dayofweek</th>\n",
       "      <th>Week</th>\n",
       "      <th>Quarter</th>\n",
       "      <th>Dayofyear</th>\n",
       "      <th>Semester</th>\n",
       "      <th>is_weekend</th>\n",
       "      <th>Hour</th>\n",
       "      <th>Junction_1</th>\n",
       "      <th>Junction_2</th>\n",
       "      <th>Junction_3</th>\n",
       "      <th>Junction_4</th>\n",
       "    </tr>\n",
       "  </thead>\n",
       "  <tbody>\n",
       "    <tr>\n",
       "      <th>0</th>\n",
       "      <td>1.498847e+09</td>\n",
       "      <td>20170701001</td>\n",
       "      <td>2017</td>\n",
       "      <td>7</td>\n",
       "      <td>1</td>\n",
       "      <td>5</td>\n",
       "      <td>26</td>\n",
       "      <td>3</td>\n",
       "      <td>182</td>\n",
       "      <td>2</td>\n",
       "      <td>1</td>\n",
       "      <td>0</td>\n",
       "      <td>1</td>\n",
       "      <td>0</td>\n",
       "      <td>0</td>\n",
       "      <td>0</td>\n",
       "    </tr>\n",
       "    <tr>\n",
       "      <th>1</th>\n",
       "      <td>1.498851e+09</td>\n",
       "      <td>20170701011</td>\n",
       "      <td>2017</td>\n",
       "      <td>7</td>\n",
       "      <td>1</td>\n",
       "      <td>5</td>\n",
       "      <td>26</td>\n",
       "      <td>3</td>\n",
       "      <td>182</td>\n",
       "      <td>2</td>\n",
       "      <td>1</td>\n",
       "      <td>1</td>\n",
       "      <td>1</td>\n",
       "      <td>0</td>\n",
       "      <td>0</td>\n",
       "      <td>0</td>\n",
       "    </tr>\n",
       "    <tr>\n",
       "      <th>2</th>\n",
       "      <td>1.498855e+09</td>\n",
       "      <td>20170701021</td>\n",
       "      <td>2017</td>\n",
       "      <td>7</td>\n",
       "      <td>1</td>\n",
       "      <td>5</td>\n",
       "      <td>26</td>\n",
       "      <td>3</td>\n",
       "      <td>182</td>\n",
       "      <td>2</td>\n",
       "      <td>1</td>\n",
       "      <td>2</td>\n",
       "      <td>1</td>\n",
       "      <td>0</td>\n",
       "      <td>0</td>\n",
       "      <td>0</td>\n",
       "    </tr>\n",
       "    <tr>\n",
       "      <th>3</th>\n",
       "      <td>1.498858e+09</td>\n",
       "      <td>20170701031</td>\n",
       "      <td>2017</td>\n",
       "      <td>7</td>\n",
       "      <td>1</td>\n",
       "      <td>5</td>\n",
       "      <td>26</td>\n",
       "      <td>3</td>\n",
       "      <td>182</td>\n",
       "      <td>2</td>\n",
       "      <td>1</td>\n",
       "      <td>3</td>\n",
       "      <td>1</td>\n",
       "      <td>0</td>\n",
       "      <td>0</td>\n",
       "      <td>0</td>\n",
       "    </tr>\n",
       "    <tr>\n",
       "      <th>4</th>\n",
       "      <td>1.498862e+09</td>\n",
       "      <td>20170701041</td>\n",
       "      <td>2017</td>\n",
       "      <td>7</td>\n",
       "      <td>1</td>\n",
       "      <td>5</td>\n",
       "      <td>26</td>\n",
       "      <td>3</td>\n",
       "      <td>182</td>\n",
       "      <td>2</td>\n",
       "      <td>1</td>\n",
       "      <td>4</td>\n",
       "      <td>1</td>\n",
       "      <td>0</td>\n",
       "      <td>0</td>\n",
       "      <td>0</td>\n",
       "    </tr>\n",
       "  </tbody>\n",
       "</table>\n",
       "</div>"
      ],
      "text/plain": [
       "       DateTime           ID  Year  Month  Day  Dayofweek  Week  Quarter  \\\n",
       "0  1.498847e+09  20170701001  2017      7    1          5    26        3   \n",
       "1  1.498851e+09  20170701011  2017      7    1          5    26        3   \n",
       "2  1.498855e+09  20170701021  2017      7    1          5    26        3   \n",
       "3  1.498858e+09  20170701031  2017      7    1          5    26        3   \n",
       "4  1.498862e+09  20170701041  2017      7    1          5    26        3   \n",
       "\n",
       "   Dayofyear  Semester  is_weekend  Hour  Junction_1  Junction_2  Junction_3  \\\n",
       "0        182         2           1     0           1           0           0   \n",
       "1        182         2           1     1           1           0           0   \n",
       "2        182         2           1     2           1           0           0   \n",
       "3        182         2           1     3           1           0           0   \n",
       "4        182         2           1     4           1           0           0   \n",
       "\n",
       "   Junction_4  \n",
       "0           0  \n",
       "1           0  \n",
       "2           0  \n",
       "3           0  \n",
       "4           0  "
      ]
     },
     "execution_count": 60,
     "metadata": {},
     "output_type": "execute_result"
    }
   ],
   "source": [
    "test.head()"
   ]
  },
  {
   "cell_type": "code",
   "execution_count": 61,
   "metadata": {},
   "outputs": [],
   "source": [
    "test=test.drop('ID',axis=1)"
   ]
  },
  {
   "cell_type": "code",
   "execution_count": 62,
   "metadata": {},
   "outputs": [],
   "source": [
    "predt=model.predict(test)"
   ]
  },
  {
   "cell_type": "code",
   "execution_count": null,
   "metadata": {},
   "outputs": [],
   "source": []
  }
 ],
 "metadata": {
  "kernelspec": {
   "display_name": "Python 3",
   "language": "python",
   "name": "python3"
  },
  "language_info": {
   "codemirror_mode": {
    "name": "ipython",
    "version": 3
   },
   "file_extension": ".py",
   "mimetype": "text/x-python",
   "name": "python",
   "nbconvert_exporter": "python",
   "pygments_lexer": "ipython3",
   "version": "3.7.6"
  }
 },
 "nbformat": 4,
 "nbformat_minor": 4
}
